{
  "cells": [
    {
      "cell_type": "markdown",
      "metadata": {
        "id": "z_xhvUO10XD6"
      },
      "source": [
        "# 畳み込みニューラルネットワーク"
      ]
    },
    {
      "cell_type": "markdown",
      "metadata": {
        "id": "82Sx06lGrg3K"
      },
      "source": [
        "## 基本的な事柄"
      ]
    },
    {
      "cell_type": "markdown",
      "metadata": {
        "id": "k-S6ghDZpmSG"
      },
      "source": [
        "画像データを処理することが得意なニューラルネットワークである畳み込みニューラルネットワーク（convolutional neural network（CNN））とそれに関する基本的な事柄をまとめます．"
      ]
    },
    {
      "cell_type": "markdown",
      "metadata": {
        "id": "isuh1_iiygT0"
      },
      "source": [
        "### CNN とは"
      ]
    },
    {
      "cell_type": "markdown",
      "metadata": {
        "id": "YtIMcWPodXRj"
      },
      "source": [
        "ほげ"
      ]
    },
    {
      "cell_type": "markdown",
      "metadata": {
        "id": "L3mzuNEjy5to"
      },
      "source": [
        "### 畳み込み"
      ]
    },
    {
      "cell_type": "markdown",
      "metadata": {
        "id": "H7fpi958zLiS"
      },
      "source": [
        "ほげ"
      ]
    },
    {
      "cell_type": "markdown",
      "metadata": {
        "id": "hezey89MynbX"
      },
      "source": [
        "### プーリング"
      ]
    },
    {
      "cell_type": "markdown",
      "metadata": {
        "id": "IG4DcIBO42U_"
      },
      "source": [
        "ほげ"
      ]
    },
    {
      "cell_type": "markdown",
      "metadata": {
        "id": "5RlLdfs5ynbW"
      },
      "source": [
        "## CNN の実装"
      ]
    },
    {
      "cell_type": "markdown",
      "metadata": {
        "id": "9ZpHl3AlpmSN"
      },
      "source": [
        "この節では CNN の使い方を紹介します．前章の MLP の実装を拡張する方法で CNN を実装します．"
      ]
    },
    {
      "cell_type": "markdown",
      "metadata": {
        "id": "9N2tV28sR6t2"
      },
      "source": [
        "### ほげ"
      ]
    },
    {
      "cell_type": "markdown",
      "metadata": {
        "id": "4gSBTJTOR6t3"
      },
      "source": [
        "ほげ"
      ]
    },
    {
      "cell_type": "markdown",
      "metadata": {
        "id": "_rfC8Kj03omW"
      },
      "source": [
        "```{note}\n",
        "終わりです．\n",
        "```"
      ]
    }
  ],
  "metadata": {
    "accelerator": "GPU",
    "colab": {
      "provenance": [],
      "toc_visible": true
    },
    "kernelspec": {
      "display_name": "Python 3 (ipykernel)",
      "language": "python",
      "name": "python3"
    },
    "language_info": {
      "codemirror_mode": {
        "name": "ipython",
        "version": 3
      },
      "file_extension": ".py",
      "mimetype": "text/x-python",
      "name": "python",
      "nbconvert_exporter": "python",
      "pygments_lexer": "ipython3",
      "version": "3.7.7"
    }
  },
  "nbformat": 4,
  "nbformat_minor": 0
}