{
 "cells": [
  {
   "cell_type": "markdown",
   "metadata": {
    "id": "P8vvHzqFQnBR"
   },
   "source": [
    "# 多層パーセプトロン"
   ]
  },
  {
   "cell_type": "markdown",
   "metadata": {
    "id": "q6x6Jp9i4Wfa"
   },
   "source": [
    "## 扱うデータの紹介"
   ]
  },
  {
   "cell_type": "markdown",
   "metadata": {
    "id": "FofzDCf7pid5"
   },
   "source": [
    "このコンテンツでは最も基本的な深層学習アルゴリズムである多層パーセプトロンを実装する方法を紹介します．多層パーセプトロンは英語では multilayer perceptron（MLP）と言います．ニューラルネットワークの一種です．層という概念があり，この層を幾重にも重ねることで深層ニューラルネットワークを構築することができます．MLP を実装するためにとても有名なデータセットを利用しますが，この節ではそのデータセットの紹介をします．"
   ]
  },
  {
   "cell_type": "markdown",
   "metadata": {
    "id": "hRH4_yZ_4Wfa"
   },
   "source": [
    "### MNIST について"
   ]
  },
  {
   "cell_type": "markdown",
   "metadata": {
    "id": "UEswqxFR415j"
   },
   "source": [
    "MLP に処理させるデータセットとして，機械学習界隈で最も有名なデータセットである MNIST（Mixed National Institute of Standards and Technology database）を解析対象に用います．MNIST は縦横28ピクセル，合計784ピクセルよりなる画像データです．画像には手書きの一桁の数字（0から9）が含まれています．公式ウェブサイトでは，学習データセット6万個とテストデータセット1万個，全部で7万個の画像からなるデータセットが無償で提供されています．"
   ]
  },
  {
   "cell_type": "markdown",
   "metadata": {
    "id": "d7Bf59IjDJFx"
   },
   "source": [
    "```{note}\n",
    "MNIST はエムニストと読みます．\n",
    "```"
   ]
  },
  {
   "cell_type": "markdown",
   "metadata": {
    "id": "GpqBe54Tl8Ac"
   },
   "source": [
    "### ダウンロードと可視化"
   ]
  },
  {
   "cell_type": "markdown",
   "metadata": {
    "id": "vJQcfuRVmK60"
   },
   "source": [
    "公式サイトよりダウンロードしてきても良いのですが，PyTorch がダウンロードするためのユーティリティを準備してくれているため，それを用います．MNIST は合計7万インスタンスからなるデータセットです．8行目は学習データセット，9行目はテストデータセットのための記述です．"
   ]
  },
  {
   "cell_type": "code",
   "execution_count": null,
   "metadata": {
    "id": "d_a_suFsG3EL"
   },
   "outputs": [],
   "source": [
    "#!/usr/bin/env python3\n",
    "import torch\n",
    "from torchvision import datasets, transforms\n",
    "\n",
    "def main():\n",
    "    # MNISTデータセットの読み込み．\n",
    "    transform = transforms.Compose([transforms.ToTensor(), transforms.Normalize((0.5,), (0.5,))])\n",
    "    train_dataset = datasets.MNIST(root='./data', train=True, download=True, transform=transform)\n",
    "    test_dataset = datasets.MNIST(root='./data', train=False, download=True, transform=transform)\n",
    "\n",
    "    print(\"The number of instances in the learning dataset:\", len(train_dataset))\n",
    "    print(\"The number of instances in the test dataset:\", len(test_dataset))\n",
    "    # 最初のインスタンスの情報を取得．\n",
    "    first_train_image, first_train_target = train_dataset[0]\n",
    "    print(\"The input vector of the first instance in the learning dataset:\", first_train_image)\n",
    "    print(\"Its shape:\", first_train_image.shape)\n",
    "    print(\"The target vector of the first instance in the learning dataset:\", first_train_target)\n",
    "\n",
    "if __name__ == \"__main__\":\n",
    "    main()"
   ]
  },
  {
   "cell_type": "markdown",
   "metadata": {
    "id": "vnrhbRacO1EA"
   },
   "source": [
    "データを可視化します．可視化のために matplotlib というライブラリをインポートします．"
   ]
  },
  {
   "cell_type": "code",
   "execution_count": null,
   "metadata": {
    "id": "xDPLSnfPHIQX"
   },
   "outputs": [],
   "source": [
    "#!/usr/bin/env python3\n",
    "import torch\n",
    "from torchvision import datasets, transforms\n",
    "import matplotlib.pyplot as plt\n",
    "\n",
    "def main():\n",
    "    # MNISTデータセットの読み込み．\n",
    "    transform = transforms.Compose([transforms.ToTensor(), transforms.Normalize((0.5,), (0.5,))])\n",
    "    train_dataset = datasets.MNIST(root='./data', train=True, download=True, transform=transform)\n",
    "\n",
    "    # トレーニングデータセットから最初の画像を取得．\n",
    "    first_train_image, first_train_target = train_dataset[0]\n",
    "\n",
    "    # 画像を表示．\n",
    "    plt.imshow(first_train_image.squeeze(), cmap=\"gray\")\n",
    "    plt.text(1, 2.5, int(first_train_target), fontsize=20, color=\"white\")\n",
    "    plt.show()\n",
    "\n",
    "if __name__ == \"__main__\":\n",
    "    main()"
   ]
  },
  {
   "cell_type": "markdown",
   "metadata": {
    "id": "W47MrFCWWw1I"
   },
   "source": [
    "ちなみに，このデータセットがダウンロードされている場所は `/content/data` です．以下のような BaSH のコマンドを打つことで確認することができます．"
   ]
  },
  {
   "cell_type": "code",
   "execution_count": null,
   "metadata": {
    "id": "9papvpHaNyQ4"
   },
   "outputs": [],
   "source": [
    "! ls /content/data"
   ]
  },
  {
   "cell_type": "markdown",
   "metadata": {
    "id": "L4Zjwn7HVw7a"
   },
   "source": [
    "MNIST はこのような縦が28ピクセル，横が28ピクセルからなる手書き文字が書かれた（描かれた）画像です（0から9までの値）．それに対して，その手書き文字が0から9のどれなのかという正解データが紐づいています．この画像データを MLP に読み込ませ，それがどの数字なのかを当てるという課題に取り組みます．"
   ]
  },
  {
   "cell_type": "markdown",
   "metadata": {
    "id": "wGJH49CgwiDy"
   },
   "source": [
    "## MLP の実装"
   ]
  },
  {
   "cell_type": "markdown",
   "metadata": {
    "id": "8QHBjoqAhgsf"
   },
   "source": [
    "この節では MLP を実装します．MLP を実装することに加えて，どのように学習を進めるとより良い人工知能を構築できるのかについて紹介します．"
   ]
  },
  {
   "cell_type": "markdown",
   "metadata": {
    "id": "a_Mv4Ys5wiD5"
   },
   "source": [
    "### 簡単な MLP の実装"
   ]
  },
  {
   "cell_type": "markdown",
   "metadata": {
    "id": "TgBNnwhlwuim"
   },
   "source": [
    "実際に MNIST を処理する MLP を実装する前に，とても簡単なデータを処理するための MLP を実装します．ここでは，以下のようなデータを利用します．これが学習セットです．ここでは MLP の実装の方法を紹介するだけなのでバリデーションセットもテストセットも使用しません．\n",
    "\n",
    "入力ベクトル | ターゲットベクトル\n",
    ":---: | :---:\n",
    "[ 1.1, 2.2, 3.0, 4.0 ] | [ 0 ]\n",
    "[ 2.0, 3.0, 4.0, 1.0 ] | [ 1 ]\n",
    "[ 2.0, 2.0, 3.0, 4.0 ] | [ 2 ]\n",
    "\n",
    "すなわち，`[1.1, 2.2, 3.0, 4.0]` が人工知能へ入力されたら，`0` というクラスを返し，`[2.0, 3.0, 4.0, 1.0]` というベクトルが入力されたら `1` というクラスを返し，`[2.0, 2.0, 3.0, 4.0]` というベクトルが入力されたら `2` というクラスを返す人工知能を MLP で構築します．実際には以下のように書きます．"
   ]
  },
  {
   "cell_type": "code",
   "execution_count": null,
   "metadata": {
    "id": "xdeDR46tSzo5"
   },
   "outputs": [],
   "source": [
    "#!/usr/bin/env python3\n",
    "import torch\n",
    "import torch.nn as nn\n",
    "import torch.optim as optim\n",
    "import numpy as np\n",
    "torch.manual_seed(0)\n",
    "np.random.seed(0)\n",
    "\n",
    "def main():\n",
    "    # GPUの使用の設定．\n",
    "    device = torch.device(\"cuda\" if torch.cuda.is_available() else \"cpu\")\n",
    "\n",
    "    # データセットの生成．\n",
    "    tx = torch.tensor([[1.1, 2.2, 3.0, 4.0], [2.0, 3.0, 4.0, 1.0], [2.0, 2.0, 3.0, 4.0]], dtype=torch.float32).to(device)\n",
    "    tt = torch.tensor([0, 1, 2], dtype=torch.long).to(device)\n",
    "\n",
    "    # ネットワークの定義．\n",
    "    model = Network().to(device)\n",
    "    criterion = nn.CrossEntropyLoss()\n",
    "    optimizer = optim.Adam(model.parameters())\n",
    "\n",
    "    # 学習ループ．\n",
    "    for epoch in range(1, 3001):\n",
    "        optimizer.zero_grad()\n",
    "        ty = model(tx)\n",
    "        traincost = criterion(ty, tt)\n",
    "        prediction = ty.argmax(dim=1) # Accuracyを計算するために予測値を計算．\n",
    "        trainacc = torch.tensor(torch.sum(prediction == tt).item() / len(tt)) # Accuracyを計算．\n",
    "        traincost.backward()\n",
    "        optimizer.step()\n",
    "        if epoch % 100 == 0:\n",
    "            print(\"Epoch {:5d}: Training cost= {:.4f}, Training ACC= {:.4f}\".format(epoch,traincost,trainacc))\n",
    "\n",
    "    # 推論の例．\n",
    "    tx1 = torch.tensor([[1.1, 2.2, 3.0, 4.0]], dtype=torch.float32).to(device)\n",
    "    ty1 = model(tx1)\n",
    "    print(ty1.cpu().detach().numpy())  # 結果をCPUに戻してnumpy配列に変換\n",
    "\n",
    "    # 未知のデータに対する推論．\n",
    "    tu = torch.tensor([[999, 888, 777, 666]], dtype=torch.float32).to(device)\n",
    "    tp = model(tu)\n",
    "    print(tp.cpu().detach().numpy())  # 結果をCPUに戻してnumpy配列に変換\n",
    "\n",
    "class Network(nn.Module):\n",
    "    def __init__(self):\n",
    "        super(Network, self).__init__()\n",
    "        self.d1 = nn.Linear(4, 10)  # 全結合層\n",
    "        self.d2 = nn.Linear(10, 3)  # 出力層\n",
    "\n",
    "    def forward(self, x):\n",
    "        x = torch.relu(self.d1(x))\n",
    "        x = torch.softmax(self.d2(x), dim=1)\n",
    "        return x\n",
    "\n",
    "if __name__ == \"__main__\":\n",
    "    main()"
   ]
  },
  {
   "cell_type": "markdown",
   "metadata": {
    "id": "6xqm1jMiTES2"
   },
   "source": [
    "上から説明します．以下の記述は GPU を利用するためのものです．もし GPU が利用できない環境だと CPU が利用されます．\n",
    "```python\n",
    "    device = torch.device(\"cuda\" if torch.cuda.is_available() else \"cpu\")\n",
    "    print(\"Using device:\", device)\n",
    "```"
   ]
  },
  {
   "cell_type": "markdown",
   "metadata": {
    "id": "gNBS4Nh5KxXe"
   },
   "source": [
    "以下では，上述のデータを生成しています．`tx` は入力ベクトル3つです．`tt` はそれに対応するターゲットベクトル（スカラ）3つです．\n",
    "```python\n",
    "    # データセットの生成．\n",
    "    tx = torch.tensor([[1.1, 2.2, 3.0, 4.0], [2.0, 3.0, 4.0, 1.0], [2.0, 2.0, 3.0, 4.0]], dtype=torch.float32).to(device)\n",
    "    tt = torch.tensor([0, 1, 2], dtype=torch.long).to(device)\n",
    "```"
   ]
  },
  {
   "cell_type": "markdown",
   "metadata": {
    "id": "Ayi-rI6VLOrW"
   },
   "source": [
    "次に，以下のような記述があります．この記述によって未学習の人工知能を生成します．生成した人工知能は `model` です．\n",
    "```python\n",
    "    model = Network().to(device)\n",
    "```\n",
    "この未学習の人工知能を生成するための記述の本体はプログラムの最下層辺りにある以下の記述です．\n",
    "```python\n",
    "class Network(nn.Module):\n",
    "    def __init__(self):\n",
    "        super(Network, self).__init__()\n",
    "        self.d1 = nn.Linear(4, 10)  # 全結合層\n",
    "        self.d2 = nn.Linear(10, 3)  # 出力層\n",
    "\n",
    "    def forward(self, x):\n",
    "        x = torch.relu(self.d1(x))\n",
    "        x = torch.softmax(self.d2(x), dim=1)\n",
    "        return x\n",
    "```\n",
    "ここに `nn.Linear(4, 10)` とありますが，これは10個のニューロンを持つ層を1個生成するための記述です．これによって生成される層の名前は `self.d1()` です．ここでは10個という値を設定していますが，これは100でも1万でも1兆でもなんでも良いです．解きたい課題にあわせて増やしたり減らしたりします．ここをうまく選ぶことでより良い人工知能を構築でき，腕の見せ所です．次に，`nn.Linear(10, 3)` という記述で3個のニューロンを持つ層を1個生成します．この3個という値は意味を持っています．入力するデータのクラスが0，1または2の3分類（クラス）であるからです．次の，`def forward(self,x):` という記述はこれ（`class Network()`）によって生成した人工知能を呼び出したときにどのような計算をさせるかを定義するものです．入力として `x` というベクトルが与えられたら，それに対して最初の層を適用し，次に，その出力に対して次の層を適用し，その値を出力する，と定義しています．構築した人工知能 `model` に対して `model.forward()` のような方法で呼び出すことができます．`torch.relu(self.d1(x))` という記述は活性化関数である ReLU を利用するためのものです．また，出力時の活性化関数にはソフトマックス関数，`torch.softmax()` を指定しています．ソフトマックス関数の出力ベクトルの要素を合計すると1になります．各要素の最小値は0です．よって出力結果を確率として解釈できます．\n"
   ]
  },
  {
   "cell_type": "markdown",
   "metadata": {
    "id": "QdGUImBQN_eP"
   },
   "source": [
    "次の以下の記述は，それぞれ，損失関数，正確度（ACC）を計算する関数，最急降下法の最適化法（パラメータの更新ルール）を定義するものです．これは，PyTorch ではこのように書くのだと覚えるものです．\n",
    "```python\n",
    "    criterion = nn.CrossEntropyLoss()\n",
    "    optimizer = optim.Adam(model.parameters())\n",
    "```"
   ]
  },
  {
   "cell_type": "markdown",
   "metadata": {
    "id": "PX_YcjtupDpo"
   },
   "source": [
    "```{note}\n",
    "実は，最終層でソフトマックス関数を使う必要はありません．`nn.CrossEntropyLoss()` は内部でソフトマックスを計算するので，これを損失関数として利用する場合は加えない方が良いです．このコードでは初学者用にあえて加えたに過ぎません．実際の利用では最終層のソフトマックス関数は外しましょう．\n",
    "```"
   ]
  },
  {
   "cell_type": "markdown",
   "metadata": {
    "id": "ONHLY16EcXq8"
   },
   "source": [
    "次に記述されている以下の部分は，実際の学習のループに関するものです．このループでデータを何度も何度も予測器（人工知能）に読ませ，そのパラメータを成長させます．この場合，3000回データを学習させます．また，学習100回毎に学習の状況を出力させます．\n",
    "```python\n",
    "    # 学習ループ．\n",
    "    for epoch in range(1, 3001):\n",
    "        optimizer.zero_grad()\n",
    "        ty = model(tx)\n",
    "        traincost = criterion(ty, tt)\n",
    "        prediction = ty.argmax(dim=1) # Accuracyを計算するために予測値を計算．\n",
    "        trainacc = torch.tensor(torch.sum(prediction == tt).item() / len(tt)) # Accuracyを計算．\n",
    "        traincost.backward()\n",
    "        optimizer.step()\n",
    "        if epoch % 100 == 0:\n",
    "            print(\"Epoch {:5d}: Training cost= {:.4f}, Training ACC= {:.4f}\".format(epoch,traincost,trainacc))\n",
    "```\n",
    "この学習ループでは，最初に勾配の値を `optimizer.zero_grad()` にてゼロにします．PyTroch の仕様上，勾配を `.grad` に蓄積してしまうという性質があるからです．次の行では出力値を計算します．この出力値 `ty` と教師データ `tt` を `criterion()` にて比較することでコスト関数値 `traincost` を計算します．引き続き正確度を計算します．次の `traincost.backward()` はコスト関数から勾配を計算するためのものです．次の `optimizer.step()` にてニューラルネットワークのパラメータを更新します．"
   ]
  },
  {
   "cell_type": "markdown",
   "metadata": {
    "id": "g64axWzBc0Ia"
   },
   "source": [
    "次の記述，以下の部分では学習がうまくいったのかを確認するために学習データのひとつを学習済みの人工知能に読ませて予測をさせています．この場合，最初のデータのターゲットベクトルは0なので0が出力されなければなりません．\n",
    "```python\n",
    "    # 推論の例．\n",
    "    tx1 = torch.tensor([[1.1, 2.2, 3.0, 4.0]], dtype=torch.float32).to(device)\n",
    "    ty1 = model(tx1)\n",
    "    print(ty1.cpu().detach().numpy())  # 結果をCPUに戻してnumpy配列に変換\n",
    "```\n",
    "出力結果は以下のようになっているはずです．出力はソフトマックス関数なので各クラスの確率が表示されています．これを確認すると，最初のクラス（0）である確率が99%以上であると出力されています．よって，やはり人工知能は意図した通り成長したことが確認できます．\n",
    "```\n",
    "[[9.9754351e-01 3.6117400e-04 2.0953205e-03]]\n",
    "```\n"
   ]
  },
  {
   "cell_type": "markdown",
   "metadata": {
    "id": "IGdA47psd1fm"
   },
   "source": [
    "次に，全く新たなデータを入力しています．\n",
    "```python\n",
    "    # 未知のデータに対する推論．\n",
    "    tu = torch.tensor([[999, 888, 777, 666]], dtype=torch.float32).to(device)\n",
    "    tp = model(tu)\n",
    "    print(tp.cpu().detach().numpy())  # 結果をCPUに戻してnumpy配列に変換\n",
    "```\n",
    "`[999,888,777,666]` というベクトルを入力したときにどのような出力がされるかということですが，この場合，以下のような出力がされています．このベクトルを入力したときの予測値は2であるとこの人工知能は予測したということです．\n",
    "```\n",
    "[[0. 0. 1.]]\n",
    "```\n"
   ]
  },
  {
   "cell_type": "markdown",
   "metadata": {
    "id": "_DLxPk7mcVM-"
   },
   "source": [
    "### モジュールの挙動確認"
   ]
  },
  {
   "cell_type": "markdown",
   "metadata": {
    "id": "JnzU-u3urCK0"
   },
   "source": [
    "以下では `nn.Linear()` の挙動を確認します．`nn.Linear()` はもちろんクラスの中でなければ使えない関数ではなく，`main()` の中でも呼び出して利用可能です．これで挙動を確認することでどのようにネットワークが構築されているか把握できるかもしれません．"
   ]
  },
  {
   "cell_type": "code",
   "execution_count": null,
   "metadata": {
    "id": "EbLFerlAcyg-"
   },
   "outputs": [],
   "source": [
    "#!/usr/bin/env python3\n",
    "import torch\n",
    "import torch.nn as nn\n",
    "import numpy as np\n",
    "torch.manual_seed(0)\n",
    "np.random.seed(0)\n",
    "\n",
    "def main():\n",
    "    # データセットの生成\n",
    "    tx = torch.tensor([[1.1, 2.2, 3.0, 4.0], [2.0, 3.0, 4.0, 1.0], [2.0, 2.0, 3.0, 4.0]], dtype=torch.float32)\n",
    "\n",
    "    # 関数を定義\n",
    "    d1 = nn.Linear(4, 10)\n",
    "    relu = nn.ReLU()\n",
    "\n",
    "    # データセットの最初の値を入力\n",
    "    print(\"1-----------\")\n",
    "    print(relu(d1(tx[0:1])))\n",
    "\n",
    "    # データセットの全部の値を入力\n",
    "    print(\"2-----------\")\n",
    "    print(relu(d1(tx)))\n",
    "\n",
    "    # 活性化関数を変更した関数を定義\n",
    "    d1 = nn.Linear(4, 10)\n",
    "\n",
    "    # データセットの最初の値を入力\n",
    "    print(\"3-----------\")\n",
    "    print(d1(tx[0:1]))\n",
    "\n",
    "    # データセットの全部の値を入力\n",
    "    print(\"4-----------\")\n",
    "    print(d1(tx))\n",
    "\n",
    "    # 最初の引数の値を変更した関数を定義\n",
    "    d1 = nn.Linear(4, 4)\n",
    "\n",
    "    # データセットの最初の値を入力\n",
    "    print(\"5-----------\")\n",
    "    print(d1(tx[0:1]))\n",
    "\n",
    "    # データセットの全部の値を入力\n",
    "    print(\"6-----------\")\n",
    "    print(d1(tx))\n",
    "\n",
    "    # 別の関数を定義\n",
    "    d1 = nn.Linear(4, 4)\n",
    "    d2 = nn.Linear(4, 5)\n",
    "    relu = nn.ReLU()\n",
    "\n",
    "    # データセットの最初の値を入力\n",
    "    print(\"7-----------\")\n",
    "    y = relu(d2(d1(tx[0:1])))\n",
    "    print(y)\n",
    "\n",
    "    # データセットの全部の値を入力\n",
    "    print(\"8-----------\")\n",
    "    y = relu(d2(d1(tx)))\n",
    "    print(y)\n",
    "\n",
    "if __name__ == \"__main__\":\n",
    "    main()"
   ]
  },
  {
   "cell_type": "markdown",
   "metadata": {
    "id": "QSoQOLJ-c3tT"
   },
   "source": [
    "```{note}\n",
    "このようなコードを動かすことでニューラルネットワークの中身を理解することができます．\n",
    "```"
   ]
  },
  {
   "cell_type": "markdown",
   "metadata": {
    "id": "OJidO32f0MNE"
   },
   "source": [
    "### MNIST を利用した学習"
   ]
  },
  {
   "cell_type": "markdown",
   "metadata": {
    "id": "rS8HR3BpWisg"
   },
   "source": [
    "次に，MNIST を処理して「0から9の数字が書かれた（描かれた）手書き文字を入力にして，その手書き文字が0から9のどれなのかを判別する人工知能」を構築します．以下のように書きます．"
   ]
  },
  {
   "cell_type": "code",
   "execution_count": null,
   "metadata": {
    "id": "MymIaj0yji3y"
   },
   "outputs": [],
   "source": [
    "#!/usr/bin/env python3\n",
    "import torch\n",
    "import torch.nn as nn\n",
    "import torch.optim as optim\n",
    "import numpy as np\n",
    "from torchvision import datasets, transforms\n",
    "from torch.utils.data import DataLoader\n",
    "torch.manual_seed(0)\n",
    "np.random.seed(0)\n",
    "\n",
    "def main():\n",
    "    # GPUの使用の設定．\n",
    "    device = torch.device(\"cuda\" if torch.cuda.is_available() else \"cpu\")\n",
    "\n",
    "    # ハイパーパラメータの設定．\n",
    "    MAXEPOCH = 50\n",
    "    MINIBATCHSIZE = 500\n",
    "    UNITSIZE = 500\n",
    "\n",
    "    # データの読み込みと前処理．\n",
    "    transform = transforms.Compose([transforms.ToTensor()])\n",
    "    learn_dataset = datasets.MNIST(root='./data', train=True, download=True, transform=transform)\n",
    "    test_dataset = datasets.MNIST(root='./data', train=False, download=True, transform=transform)\n",
    "\n",
    "    # トレーニングセットとバリデーションセットの分割．\n",
    "    train_dataset, valid_dataset = torch.utils.data.random_split(learn_dataset, [int(len(learn_dataset) * 0.9), int(len(learn_dataset) * 0.1)])\n",
    "\n",
    "    # データローダーの設定．\n",
    "    train_loader = torch.utils.data.DataLoader(train_dataset, batch_size=MINIBATCHSIZE, shuffle=True)\n",
    "    valid_loader = torch.utils.data.DataLoader(valid_dataset, batch_size=len(valid_dataset), shuffle=False)\n",
    "    test_loader = torch.utils.data.DataLoader(test_dataset, batch_size=len(test_dataset), shuffle=False)\n",
    "\n",
    "    # ネットワークの定義．\n",
    "    model = Network(UNITSIZE, len(learn_dataset.classes)).to(device)\n",
    "    criterion = nn.CrossEntropyLoss()\n",
    "    optimizer = optim.Adam(model.parameters())\n",
    "\n",
    "    # 学習ループ．\n",
    "    for epoch in range(1, MAXEPOCH + 1):\n",
    "        # トレーニング．\n",
    "        model.train() # ドロップアウト等は動作するモード．\n",
    "        traincost = 0.0\n",
    "        for tx, tt in train_loader:\n",
    "            tx, tt = tx.to(device), tt.to(device)\n",
    "            optimizer.zero_grad()\n",
    "            ty = model(tx)\n",
    "            loss = criterion(ty, tt)\n",
    "            loss.backward()\n",
    "            optimizer.step()\n",
    "            traincost += loss.item()\n",
    "        traincost /= len(train_loader) # このlen(train_loader)はミニバッチの個数．\n",
    "        # バリデーション．\n",
    "        model.eval() # ドロップアウト等は動作しないモード．\n",
    "        validcost = 0.0\n",
    "        with torch.no_grad():\n",
    "            for tx, tt in valid_loader:\n",
    "                tx, tt = tx.to(device), tt.to(device)\n",
    "                ty = model(tx)\n",
    "                loss = criterion(ty, tt)\n",
    "                validcost += loss.item()\n",
    "        validcost /= len(valid_loader)\n",
    "        # 学習過程の出力．\n",
    "        print(\"Epoch {:4d}: Training cost= {:7.4f} Validation cost= {:7.4f}\".format(epoch, traincost, validcost))\n",
    "\n",
    "class Network(nn.Module):\n",
    "    def __init__(self, UNITSIZE, OUTPUTSIZE):\n",
    "        super(Network, self).__init__()\n",
    "        self.flatten = nn.Flatten()\n",
    "        self.d1 = nn.Linear(28*28, UNITSIZE)\n",
    "        self.d2 = nn.Linear(UNITSIZE, OUTPUTSIZE)\n",
    "\n",
    "    def forward(self, x):\n",
    "        x = self.flatten(x)\n",
    "        x = torch.relu(self.d1(x))\n",
    "        x = self.d2(x)\n",
    "        return x\n",
    "\n",
    "if __name__ == \"__main__\":\n",
    "    main()"
   ]
  },
  {
   "cell_type": "markdown",
   "metadata": {
    "id": "BGng5e3mFGm9"
   },
   "source": [
    "プログラムの中身について上から順に説明します．以下の部分はハイパーパラメータを設定する記述です．`MAXEPOCH` は計算させる最大エポックです．このエポックに至るまで繰り返しの学習をさせるということです．`MINIBATCHSIZE` とはミニバッチ処理でサンプリングするデータのサイズです．これが大きいとき実計算時間は短縮されます．この値が `1` のとき，学習法はオンライン学習法であり，この値がトレーニングセットのサイズと等しいとき，学習法は一括更新法です．ミニバッチの大きさは持っているマシンのスペックと相談しつつ，色々な値を試してみて一番良い値をトライアンドエラーで探します．`UNITSIZE` は MLP の層のサイズ，つまり，ニューロンの数です．\n",
    "\n",
    "```python\n",
    "    # ハイパーパラメータの設定．\n",
    "    MAXEPOCH = 50\n",
    "    MINIBATCHSIZE = 500\n",
    "    UNITSIZE = 500\n",
    "```"
   ]
  },
  {
   "cell_type": "markdown",
   "metadata": {
    "id": "RL6JUImcQ4sl"
   },
   "source": [
    "データの読み込みは上で説明したため省略し，以下の部分では読み込んだデータをトレーニングセットとバリデーションセットに分割しています．MNIST の学習セットは60000インスタンスからなりますが，その90%をトレーニングセットとして利用することにしています．\n",
    "```python\n",
    "    # トレーニングセットとバリデーションセットの分割．\n",
    "    train_dataset, valid_dataset = torch.utils.data.random_split(learn_dataset, [int(len(learn_dataset) * 0.9), int(len(learn_dataset) * 0.1)])\n",
    "```"
   ]
  },
  {
   "cell_type": "markdown",
   "metadata": {
    "id": "06DuMsQ0SvXU"
   },
   "source": [
    "以下の記述は，データローダーを設定するための記述です．PyTroch ではこのデータローダーという機能を利用してデータを人工知能に読ませます．`batch_size` でしたサイズのデータが第一引数で指定したデータセットより抽出されます．\n",
    "```python\n",
    "    # データローダーの設定．\n",
    "    train_loader = torch.utils.data.DataLoader(train_dataset, batch_size=MINIBATCHSIZE, shuffle=True)\n",
    "    valid_loader = torch.utils.data.DataLoader(valid_dataset, batch_size=len(valid_dataset), shuffle=False)\n",
    "    test_loader = torch.utils.data.DataLoader(test_dataset, batch_size=len(test_dataset), shuffle=False)\n",
    "```"
   ]
  },
  {
   "cell_type": "markdown",
   "metadata": {
    "id": "CEEN5OV6j1fG"
   },
   "source": [
    "ネットワークの定義は以下で行います．これは前述の例と同じです．\n",
    "```python\n",
    "    # ネットワークの定義．\n",
    "    model = Network(UNITSIZE, len(learn_dataset.classes)).to(device)\n",
    "    criterion = nn.CrossEntropyLoss()\n",
    "    optimizer = optim.Adam(model.parameters())\n",
    "```\n",
    "ネットワーク自体は以下の部分で定義されているのですが，前述の例と少し異なります．ここでは，28行28列の行列を784要素のベクトルに変換するための層 `self.flatten()` を定義しています．これにより，行列をベクトルへと変換します．\n",
    "```python\n",
    "class Network(nn.Module):\n",
    "    def __init__(self, UNITSIZE, OUTPUTSIZE):\n",
    "        super(Network, self).__init__()\n",
    "        self.flatten = nn.Flatten()\n",
    "        self.d1 = nn.Linear(28*28, UNITSIZE)\n",
    "        self.d2 = nn.Linear(UNITSIZE, OUTPUTSIZE)\n",
    "    \n",
    "    def forward(self, x):\n",
    "        x = self.flatten(x)\n",
    "        x = torch.relu(self.d1(x))\n",
    "        x = self.d2(x)\n",
    "        return x\n",
    "```"
   ]
  },
  {
   "cell_type": "markdown",
   "metadata": {
    "id": "abLL0cFJmpy7"
   },
   "source": [
    "学習ループは以下で占めす通りです．最初に，`mode.train()` を実行し，ドロップアウト等は動作するモードにモデルを設定します．その後，データローダーでデータを読み出し，それらを GPU メモリに送り，ニューラルネットワークのパラメータ更新の計算を行います．バリデーションでは，`model.eval()` にてモデルをドロップアウト等が動作しないモードに変更し，その性能を計測します．\n",
    "```python\n",
    "    # 学習ループ．\n",
    "    for epoch in range(1, MAXEPOCH + 1):\n",
    "        # トレーニング．\n",
    "        model.train() # ドロップアウト等は動作するモード．\n",
    "        traincost = 0.0\n",
    "        for tx, tt in train_loader:\n",
    "            tx, tt = tx.to(device), tt.to(device)\n",
    "            optimizer.zero_grad()\n",
    "            ty = model(tx)\n",
    "            loss = criterion(ty, tt)\n",
    "            loss.backward()\n",
    "            optimizer.step()\n",
    "            traincost += loss.item()\n",
    "        traincost /= len(train_loader) # このlen(train_loader)はミニバッチの個数．\n",
    "        # バリデーション．\n",
    "        model.eval() # ドロップアウト等は動作しないモード．\n",
    "        validcost = 0.0\n",
    "        with torch.no_grad():\n",
    "            for tx, tt in valid_loader:\n",
    "                tx, tt = tx.to(device), tt.to(device)\n",
    "                ty = model(tx)\n",
    "                loss = criterion(ty, tt)\n",
    "                validcost += loss.item()\n",
    "        validcost /= len(valid_loader)\n",
    "        # 学習過程の出力．\n",
    "        print(\"Epoch {:4d}: Training cost= {:7.4f} Validation cost= {:7.4f}\".format(epoch, traincost, validcost))\n",
    "```"
   ]
  },
  {
   "cell_type": "markdown",
   "metadata": {
    "id": "4ULEVT708nQq"
   },
   "source": [
    "次に，出力結果について説明します．このプログラムを実行するとエポックとその時のトレーニングコストとバリデーションコストが出力されます．\n",
    "```\n",
    "Epoch    1: Training cost=  0.5361 Validation cost=  0.2647\n",
    "Epoch    2: Training cost=  0.2293 Validation cost=  0.1964\n",
    "Epoch    3: Training cost=  0.1672 Validation cost=  0.1539\n",
    "Epoch    4: Training cost=  0.1289 Validation cost=  0.1308\n",
    "Epoch    5: Training cost=  0.1041 Validation cost=  0.1163\n",
    "Epoch    6: Training cost=  0.0846 Validation cost=  0.1004\n",
    "Epoch    7: Training cost=  0.0706 Validation cost=  0.0950\n",
    ".\n",
    ".\n",
    ".\n",
    "```\n",
    "これは各エポックのときの人工知能の性能です．エポックが50のとき，トレーニングのコストはとても小さい値です．コストは小さければ小さいほど良いので，学習はしっかりされていることが確認されます．しかし，これはトレーニングデータに対する人工知能の性能です．もしかしたらトレーニングデータに対してのみ性能を発揮できる，トレーニングデータに過剰に適合してしまった人工知能である可能性があります．だから，そうなっていないかどうかを確認する別のデータ，つまり，バリデーションデータセットにおけるコストも確認する必要があります．エポックが50のときのバリデーションのコストはエポック20くらいのときのコストより大きくなっています．すなわち，この人工知能はトレーニングデータに過剰に適合しています．おそらくエポック20くらいの人工知能が最も良い人工知能であって，これを最終的なプロダクトとして選択する必要があります．次の操作ではこれを行います．"
   ]
  },
  {
   "cell_type": "markdown",
   "metadata": {
    "id": "N7EaThpAqUuc"
   },
   "source": [
    "### 学習曲線の描画"
   ]
  },
  {
   "cell_type": "markdown",
   "metadata": {
    "id": "X03Zs8dIqUuj"
   },
   "source": [
    "学習曲線とは横軸にエポック，縦軸にコストの値をプロットした図です．これを観察することで，どれくらいのエポックで学習が進み始めたか，人工知能の成長が止まったか，どのくらいのエポックで過剰適合が起きたか等を視覚的に理解することができます（慣れたら前述の結果のような数字を読むだけでこの図を想像できるようになるのだと思います）．"
   ]
  },
  {
   "cell_type": "code",
   "execution_count": null,
   "metadata": {
    "id": "tHqTg_vS_9-q"
   },
   "outputs": [],
   "source": [
    "#!/usr/bin/env python3\n",
    "import torch\n",
    "import torch.nn as nn\n",
    "import torch.optim as optim\n",
    "import numpy as np\n",
    "from torchvision import datasets, transforms\n",
    "from torch.utils.data import DataLoader\n",
    "import matplotlib.pyplot as plt\n",
    "torch.manual_seed(0)\n",
    "np.random.seed(0)\n",
    "\n",
    "def main():\n",
    "    # GPUの使用の設定．\n",
    "    device = torch.device(\"cuda\" if torch.cuda.is_available() else \"cpu\")\n",
    "\n",
    "    # ハイパーパラメータの設定．\n",
    "    MAXEPOCH = 50\n",
    "    MINIBATCHSIZE = 500\n",
    "    UNITSIZE = 500\n",
    "\n",
    "    # データの読み込みと前処理．\n",
    "    transform = transforms.Compose([transforms.ToTensor()])\n",
    "    learn_dataset = datasets.MNIST(root='./data', train=True, download=True, transform=transform)\n",
    "    test_dataset = datasets.MNIST(root='./data', train=False, download=True, transform=transform)\n",
    "\n",
    "    # トレーニングセットとバリデーションセットの分割．\n",
    "    train_dataset, valid_dataset = torch.utils.data.random_split(learn_dataset, [int(len(learn_dataset) * 0.9), int(len(learn_dataset) * 0.1)])\n",
    "\n",
    "    # データローダーの設定．\n",
    "    train_loader = torch.utils.data.DataLoader(train_dataset, batch_size=MINIBATCHSIZE, shuffle=True)\n",
    "    valid_loader = torch.utils.data.DataLoader(valid_dataset, batch_size=len(valid_dataset), shuffle=False)\n",
    "    test_loader = torch.utils.data.DataLoader(test_dataset, batch_size=len(test_dataset), shuffle=False)\n",
    "\n",
    "    # ネットワークの定義．\n",
    "    model = Network(UNITSIZE, len(learn_dataset.classes)).to(device)\n",
    "    criterion = nn.CrossEntropyLoss()\n",
    "    optimizer = optim.Adam(model.parameters())\n",
    "\n",
    "    # 学習ループ．\n",
    "    liepoch, litraincost, livalidcost = [], [], []\n",
    "    for epoch in range(1, MAXEPOCH + 1):\n",
    "        # トレーニング．\n",
    "        model.train() # ドロップアウト等は動作するモード．\n",
    "        traincost = 0.0\n",
    "        for tx, tt in train_loader:\n",
    "            tx, tt = tx.to(device), tt.to(device)\n",
    "            optimizer.zero_grad()\n",
    "            ty = model(tx)\n",
    "            loss = criterion(ty, tt)\n",
    "            loss.backward()\n",
    "            optimizer.step()\n",
    "            traincost += loss.item()\n",
    "        traincost /= len(train_loader) # このlen(train_loader)はミニバッチの個数．\n",
    "        # バリデーション．\n",
    "        model.eval() # ドロップアウト等は動作しないモード．\n",
    "        validcost = 0.0\n",
    "        with torch.no_grad():\n",
    "            for tx, tt in valid_loader:\n",
    "                tx, tt = tx.to(device), tt.to(device)\n",
    "                ty = model(tx)\n",
    "                loss = criterion(ty, tt)\n",
    "                validcost += loss.item()\n",
    "        validcost /= len(valid_loader)\n",
    "        # 学習過程の出力．\n",
    "        print(\"Epoch {:4d}: Training cost= {:7.4f} Validation cost= {:7.4f}\".format(epoch, traincost, validcost))\n",
    "        liepoch.append(epoch)\n",
    "        litraincost.append(traincost)\n",
    "        livalidcost.append(validcost)\n",
    "\n",
    "    # 学習曲線の描画\n",
    "    plt.plot(liepoch,litraincost,label=\"Training\")\n",
    "    plt.plot(liepoch,livalidcost,label=\"Validation\")\n",
    "    plt.ylim(0,0.2)\n",
    "    plt.xlabel(\"Epoch\")\n",
    "    plt.ylabel(\"Cost\")\n",
    "    plt.legend()\n",
    "    plt.show()\n",
    "\n",
    "class Network(nn.Module):\n",
    "    def __init__(self, UNITSIZE, OUTPUTSIZE):\n",
    "        super(Network, self).__init__()\n",
    "        self.flatten = nn.Flatten()\n",
    "        self.d1 = nn.Linear(28*28, UNITSIZE)\n",
    "        self.d2 = nn.Linear(UNITSIZE, OUTPUTSIZE)\n",
    "\n",
    "    def forward(self, x):\n",
    "        x = self.flatten(x)\n",
    "        x = torch.relu(self.d1(x))\n",
    "        x = self.d2(x)\n",
    "        return x\n",
    "\n",
    "if __name__ == \"__main__\":\n",
    "    main()"
   ]
  },
  {
   "cell_type": "markdown",
   "metadata": {
    "id": "3Jxuo-G11DDl"
   },
   "source": [
    "最初に，コードの変更部位について説明します．以下の部分を追加しました．これは描画に必要なライブラリである `matplotlib` を利用するための記述です．\n",
    "```python\n",
    "import matplotlib.pyplot as plt\n",
    "```"
   ]
  },
  {
   "cell_type": "markdown",
   "metadata": {
    "id": "Kfa301A11ZiJ"
   },
   "source": [
    "次に，学習ループの記述ですが，以下のように最初に `liepoch`，`litraincost`，`livalidcost` という3つの空の配列を用意しました．その後ループの最後で，これらの配列に，それぞれ，エポックの値，トレーニングのコストおよびバリデーションのコストをエポックを進めるたびに追加しています．\n",
    "```python\n",
    "    # 学習ループ．\n",
    "    liepoch, litraincost, livalidcost = [], [], []\n",
    "    for epoch in range(1, MAXEPOCH + 1):\n",
    "        # トレーニング．\n",
    "        model.train() # ドロップアウト等は動作するモード．\n",
    "        traincost = 0.0\n",
    "        for tx, tt in train_loader:\n",
    "            tx, tt = tx.to(device), tt.to(device)\n",
    "            optimizer.zero_grad()\n",
    "            ty = model(tx)\n",
    "            loss = criterion(ty, tt)\n",
    "            loss.backward()\n",
    "            optimizer.step()\n",
    "            traincost += loss.item()\n",
    "        traincost /= len(train_loader) # このlen(train_loader)はミニバッチの個数．\n",
    "        # バリデーション．\n",
    "        model.eval() # ドロップアウト等は動作しないモード．\n",
    "        validcost = 0.0\n",
    "        with torch.no_grad():\n",
    "            for tx, tt in valid_loader:\n",
    "                tx, tt = tx.to(device), tt.to(device)\n",
    "                ty = model(tx)\n",
    "                loss = criterion(ty, tt)\n",
    "                validcost += loss.item()\n",
    "        validcost /= len(valid_loader)\n",
    "        # 学習過程の出力．\n",
    "        print(\"Epoch {:4d}: Training cost= {:7.4f} Validation cost= {:7.4f}\".format(epoch, traincost, validcost))\n",
    "        liepoch.append(epoch)\n",
    "        litraincost.append(traincost)\n",
    "        livalidcost.append(validcost)\n",
    "```"
   ]
  },
  {
   "cell_type": "markdown",
   "metadata": {
    "id": "IderKf7u2F3h"
   },
   "source": [
    "最後の以下の部分は学習曲線をプロットするためのコードです．\n",
    "```python\n",
    "    # 学習曲線の描画    \n",
    "    plt.plot(liepoch,litraincost,label=\"Training\")\n",
    "    plt.plot(liepoch,livalidcost,label=\"Validation\")\n",
    "    plt.ylim(0,0.2)\n",
    "    plt.xlabel(\"Epoch\")\n",
    "    plt.ylabel(\"Cost\")\n",
    "    plt.legend()\n",
    "    plt.show()\n",
    "```"
   ]
  },
  {
   "cell_type": "markdown",
   "metadata": {
    "id": "KpHhtVOv19wK"
   },
   "source": [
    "結果を観ると，トレーニングセットにおけるコストの値はエポックを経るにつれて小さくなっていることがわかります．これは，人工知能が与えられたデータに適合していることを示しています．一方で，バリデーションセットにおけるコストの値は大体エポックが10と20の間くらいで下げ止まり，その後はコストが増加に転じています．このコストの増加，人工知能がこのデータセットに適合するのとは逆の方向に成長を始めたことを意味しています．この現象が起こった原因は，この人工知能がその成長に利用するデータセット（トレーニングデータセット）に（のみ）過剰に適合し，汎化性能を失ったことにあります．この曲線を観察する限り，エポックは大体10から20の間くらいに留めておいた方が良さそうです．このような画像を観て，大体20で学習を止める，みたいに決めても悪くはありませんが，もっと体系的な方法があるので次にその方法を紹介します．"
   ]
  },
  {
   "cell_type": "markdown",
   "metadata": {
    "id": "EonrxlXFqgkB"
   },
   "source": [
    "### 早期終了"
   ]
  },
  {
   "cell_type": "markdown",
   "metadata": {
    "id": "ATp7stKSqt0g"
   },
   "source": [
    "学習の早期終了（early stopping）とは過学習を防ぐための方法です．ここでは，ペイシェンス（patience）を利用した早期終了を紹介します．この方法では最も良い値のバリデーションコストを記録し続けます．そして学習を続け，そのベストなバリデーションコストを $n$ 回連続で更新できなかった場合，そこで学習を打ち切ります．この $n$ がペイシェンスと呼ばれる値です．ペイシェンスには我慢とか忍耐とかそのような意味があります．コードは以下のように書きます．"
   ]
  },
  {
   "cell_type": "code",
   "execution_count": null,
   "metadata": {
    "id": "uwvTU9qEI5tg"
   },
   "outputs": [],
   "source": [
    "#!/usr/bin/env python3\n",
    "import torch\n",
    "import torch.nn as nn\n",
    "import torch.optim as optim\n",
    "import numpy as np\n",
    "from torchvision import datasets, transforms\n",
    "from torch.utils.data import DataLoader\n",
    "import matplotlib.pyplot as plt\n",
    "torch.manual_seed(0)\n",
    "np.random.seed(0)\n",
    "\n",
    "def main():\n",
    "    # GPUの使用の設定．\n",
    "    device = torch.device(\"cuda\" if torch.cuda.is_available() else \"cpu\")\n",
    "\n",
    "    # ハイパーパラメータの設定．\n",
    "    MAXEPOCH = 50\n",
    "    MINIBATCHSIZE = 500\n",
    "    UNITSIZE = 500\n",
    "    PATIENCE = 5\n",
    "\n",
    "    # データの読み込みと前処理．\n",
    "    transform = transforms.Compose([transforms.ToTensor()])\n",
    "    learn_dataset = datasets.MNIST(root='./data', train=True, download=True, transform=transform)\n",
    "    test_dataset = datasets.MNIST(root='./data', train=False, download=True, transform=transform)\n",
    "\n",
    "    # トレーニングセットとバリデーションセットの分割．\n",
    "    train_dataset, valid_dataset = torch.utils.data.random_split(learn_dataset, [int(len(learn_dataset) * 0.9), int(len(learn_dataset) * 0.1)])\n",
    "\n",
    "    # データローダーの設定．\n",
    "    train_loader = torch.utils.data.DataLoader(train_dataset, batch_size=MINIBATCHSIZE, shuffle=True)\n",
    "    valid_loader = torch.utils.data.DataLoader(valid_dataset, batch_size=len(valid_dataset), shuffle=False)\n",
    "    test_loader = torch.utils.data.DataLoader(test_dataset, batch_size=len(test_dataset), shuffle=False)\n",
    "\n",
    "    # ネットワークの定義．\n",
    "    model = Network(UNITSIZE, len(learn_dataset.classes)).to(device)\n",
    "    criterion = nn.CrossEntropyLoss()\n",
    "    optimizer = optim.Adam(model.parameters())\n",
    "\n",
    "    # 学習ループ．\n",
    "    liepoch, litraincost, livalidcost = [], [], []\n",
    "    patiencecounter, bestvalue = 0, 100000\n",
    "    for epoch in range(1, MAXEPOCH + 1):\n",
    "        # トレーニング．\n",
    "        model.train() # ドロップアウト等は動作するモード．\n",
    "        traincost = 0.0\n",
    "        for tx, tt in train_loader:\n",
    "            tx, tt = tx.to(device), tt.to(device)\n",
    "            optimizer.zero_grad()\n",
    "            ty = model(tx)\n",
    "            loss = criterion(ty, tt)\n",
    "            loss.backward()\n",
    "            optimizer.step()\n",
    "            traincost += loss.item()\n",
    "        traincost /= len(train_loader) # このlen(train_loader)はミニバッチの個数．\n",
    "        # バリデーション．\n",
    "        model.eval() # ドロップアウト等は動作しないモード．\n",
    "        validcost = 0.0\n",
    "        with torch.no_grad():\n",
    "            for tx, tt in valid_loader:\n",
    "                tx, tt = tx.to(device), tt.to(device)\n",
    "                ty = model(tx)\n",
    "                loss = criterion(ty, tt)\n",
    "                validcost += loss.item()\n",
    "        validcost /= len(valid_loader)\n",
    "        # 学習過程の出力．\n",
    "        print(\"Epoch {:4d}: Training cost= {:7.4f} Validation cost= {:7.4f}\".format(epoch, traincost, validcost))\n",
    "        liepoch.append(epoch)\n",
    "        litraincost.append(traincost)\n",
    "        livalidcost.append(validcost)\n",
    "        if validcost < bestvalue:\n",
    "            bestvalue = validcost\n",
    "            patiencecounter = 0\n",
    "        else:\n",
    "            patiencecounter += 1\n",
    "        if patiencecounter == PATIENCE:\n",
    "            break\n",
    "\n",
    "    # 学習曲線の描画\n",
    "    plt.plot(liepoch,litraincost,label=\"Training\")\n",
    "    plt.plot(liepoch,livalidcost,label=\"Validation\")\n",
    "    plt.ylim(0,0.2)\n",
    "    plt.xlabel(\"Epoch\")\n",
    "    plt.ylabel(\"Cost\")\n",
    "    plt.legend()\n",
    "    plt.show()\n",
    "\n",
    "class Network(nn.Module):\n",
    "    def __init__(self, UNITSIZE, OUTPUTSIZE):\n",
    "        super(Network, self).__init__()\n",
    "        self.flatten = nn.Flatten()\n",
    "        self.d1 = nn.Linear(28*28, UNITSIZE)\n",
    "        self.d2 = nn.Linear(UNITSIZE, OUTPUTSIZE)\n",
    "\n",
    "    def forward(self, x):\n",
    "        x = self.flatten(x)\n",
    "        x = torch.relu(self.d1(x))\n",
    "        x = self.d2(x)\n",
    "        return x\n",
    "\n",
    "if __name__ == \"__main__\":\n",
    "    main()"
   ]
  },
  {
   "cell_type": "markdown",
   "metadata": {
    "id": "5fahHjEOGyab"
   },
   "source": [
    "プログラムには以下の部分を追加しました．今回は4回までコストが改善しなくても許すが，5回目は許さないということです．\n",
    "```python\n",
    "    PATIENCE = 5\n",
    "```"
   ]
  },
  {
   "cell_type": "markdown",
   "metadata": {
    "id": "0g6Fc1AEHn1u"
   },
   "source": [
    "学習ループを以下のようにコードを追加しました．`patiencecounter` はコストが更新されなかった回数を数えるカウンタです．`bestvalue` は最も良いコストの値を記録する変数です．\n",
    "```python\n",
    "    # 学習ループ．\n",
    "    liepoch, litraincost, livalidcost = [], [], []\n",
    "    patiencecounter, bestvalue = 0, 100000\n",
    "    for epoch in range(1, MAXEPOCH + 1):\n",
    "        # トレーニング．\n",
    "        model.train() # ドロップアウト等は動作するモード．\n",
    "        traincost = 0.0\n",
    "        for tx, tt in train_loader:\n",
    "            tx, tt = tx.to(device), tt.to(device)\n",
    "            optimizer.zero_grad()\n",
    "            ty = model(tx)\n",
    "            loss = criterion(ty, tt)\n",
    "            loss.backward()\n",
    "            optimizer.step()\n",
    "            traincost += loss.item()\n",
    "        traincost /= len(train_loader) # このlen(train_loader)はミニバッチの個数．\n",
    "        # バリデーション．\n",
    "        model.eval() # ドロップアウト等は動作しないモード．\n",
    "        validcost = 0.0\n",
    "        with torch.no_grad():\n",
    "            for tx, tt in valid_loader:\n",
    "                tx, tt = tx.to(device), tt.to(device)\n",
    "                ty = model(tx)\n",
    "                loss = criterion(ty, tt)\n",
    "                validcost += loss.item()\n",
    "        validcost /= len(valid_loader)\n",
    "        # 学習過程の出力．\n",
    "        print(\"Epoch {:4d}: Training cost= {:7.4f} Validation cost= {:7.4f}\".format(epoch, traincost, validcost))\n",
    "        liepoch.append(epoch)\n",
    "        litraincost.append(traincost)\n",
    "        livalidcost.append(validcost)\n",
    "        if validcost < bestvalue:\n",
    "            bestvalue = validcost\n",
    "            patiencecounter = 0\n",
    "        else:\n",
    "            patiencecounter += 1\n",
    "        if patiencecounter == PATIENCE:\n",
    "            break\n",
    "```\n",
    "以下の部分で，もし最も良いコストよりさらに良いコストが得られたらベストなコストを更新し，また，ペイシェンスのカウンタを元に（`0`）戻す作業をし，それ以外の場合はペイシェンスのカウンタを1ずつ増やします．もし，カウンタの値があらかじめ設定したペイシェンスの値に達したら学習ループを停止します．\n",
    "```python\n",
    "        if validcost < bestvalue:\n",
    "            bestvalue = validcost\n",
    "            patiencecounter = 0\n",
    "        else:\n",
    "            patiencecounter += 1\n",
    "        if patiencecounter == PATIENCE:\n",
    "            break\n",
    "```"
   ]
  },
  {
   "cell_type": "markdown",
   "metadata": {
    "id": "nDQ3gA8-IsKe"
   },
   "source": [
    "結果を観ると，過学習が起こっていなさそうなところで学習が停止されているのが解ります．"
   ]
  },
  {
   "cell_type": "markdown",
   "metadata": {
    "id": "6p2yRROzqk53"
   },
   "source": [
    "### モデルの保存と利用"
   ]
  },
  {
   "cell_type": "markdown",
   "metadata": {
    "id": "KlMM7mWmqpuP"
   },
   "source": [
    "これまでに，早期終了を利用して良い人工知能が生成できるエポックが判明しました．機械学習の目的は当然，良い人工知能を開発することです．開発した人工知能は普通，別のサーバーとかトレーニングした時とは別の時間に利用したいはずです．ここで，この学習で発見した人工知能を保存して別のプログラムから，独立した人工知能として利用する方法を紹介します．最後に，テストセットでのその人工知能の性能を評価します．コードは以下のように変更します．"
   ]
  },
  {
   "cell_type": "code",
   "execution_count": null,
   "metadata": {
    "id": "SJUhd_JvJs6h"
   },
   "outputs": [],
   "source": [
    "#!/usr/bin/env python3\n",
    "import torch\n",
    "import torch.nn as nn\n",
    "import torch.optim as optim\n",
    "import numpy as np\n",
    "from torchvision import datasets, transforms\n",
    "from torch.utils.data import DataLoader\n",
    "import matplotlib.pyplot as plt\n",
    "torch.manual_seed(0)\n",
    "np.random.seed(0)\n",
    "\n",
    "def main():\n",
    "    # GPUの使用の設定．\n",
    "    device = torch.device(\"cuda\" if torch.cuda.is_available() else \"cpu\")\n",
    "\n",
    "    # ハイパーパラメータの設定．\n",
    "    MAXEPOCH = 50\n",
    "    MINIBATCHSIZE = 500\n",
    "    UNITSIZE = 500\n",
    "    PATIENCE = 5\n",
    "\n",
    "    # データの読み込みと前処理．\n",
    "    transform = transforms.Compose([transforms.ToTensor()])\n",
    "    learn_dataset = datasets.MNIST(root='./data', train=True, download=True, transform=transform)\n",
    "    test_dataset = datasets.MNIST(root='./data', train=False, download=True, transform=transform)\n",
    "\n",
    "    # トレーニングセットとバリデーションセットの分割．\n",
    "    train_dataset, valid_dataset = torch.utils.data.random_split(learn_dataset, [int(len(learn_dataset) * 0.9), int(len(learn_dataset) * 0.1)])\n",
    "\n",
    "    # データローダーの設定．\n",
    "    train_loader = torch.utils.data.DataLoader(train_dataset, batch_size=MINIBATCHSIZE, shuffle=True)\n",
    "    valid_loader = torch.utils.data.DataLoader(valid_dataset, batch_size=len(valid_dataset), shuffle=False)\n",
    "    test_loader = torch.utils.data.DataLoader(test_dataset, batch_size=len(test_dataset), shuffle=False)\n",
    "\n",
    "    # ネットワークの定義．\n",
    "    model = Network(UNITSIZE, len(learn_dataset.classes)).to(device)\n",
    "    criterion = nn.CrossEntropyLoss()\n",
    "    optimizer = optim.Adam(model.parameters())\n",
    "\n",
    "    # 学習ループ．\n",
    "    liepoch, litraincost, livalidcost = [], [], []\n",
    "    patiencecounter, bestvalue = 0, 100000\n",
    "    for epoch in range(1, MAXEPOCH + 1):\n",
    "        # トレーニング．\n",
    "        model.train() # ドロップアウト等は動作するモード．\n",
    "        traincost = 0.0\n",
    "        for tx, tt in train_loader:\n",
    "            tx, tt = tx.to(device), tt.to(device)\n",
    "            optimizer.zero_grad()\n",
    "            ty = model(tx)\n",
    "            loss = criterion(ty, tt)\n",
    "            loss.backward()\n",
    "            optimizer.step()\n",
    "            traincost += loss.item()\n",
    "        traincost /= len(train_loader) # このlen(train_loader)はミニバッチの個数．\n",
    "        # バリデーション．\n",
    "        model.eval() # ドロップアウト等は動作しないモード．\n",
    "        validcost = 0.0\n",
    "        with torch.no_grad():\n",
    "            for tx, tt in valid_loader:\n",
    "                tx, tt = tx.to(device), tt.to(device)\n",
    "                ty = model(tx)\n",
    "                loss = criterion(ty, tt)\n",
    "                validcost += loss.item()\n",
    "        validcost /= len(valid_loader)\n",
    "        # 学習過程の出力．\n",
    "        print(\"Epoch {:4d}: Training cost= {:7.4f} Validation cost= {:7.4f}\".format(epoch, traincost, validcost))\n",
    "        liepoch.append(epoch)\n",
    "        litraincost.append(traincost)\n",
    "        livalidcost.append(validcost)\n",
    "        if validcost < bestvalue:\n",
    "            bestvalue = validcost\n",
    "            patiencecounter = 0\n",
    "            torch.save(model.state_dict(), \"mlp-mnist-model.pt\") # モデルを保存するための記述．\n",
    "        else:\n",
    "            patiencecounter += 1\n",
    "        if patiencecounter == PATIENCE:\n",
    "            break\n",
    "\n",
    "    # 学習曲線の描画\n",
    "    plt.plot(liepoch,litraincost,label=\"Training\")\n",
    "    plt.plot(liepoch,livalidcost,label=\"Validation\")\n",
    "    plt.ylim(0,0.2)\n",
    "    plt.xlabel(\"Epoch\")\n",
    "    plt.ylabel(\"Cost\")\n",
    "    plt.legend()\n",
    "    plt.show()\n",
    "\n",
    "class Network(nn.Module):\n",
    "    def __init__(self, UNITSIZE, OUTPUTSIZE):\n",
    "        super(Network, self).__init__()\n",
    "        self.flatten = nn.Flatten()\n",
    "        self.d1 = nn.Linear(28*28, UNITSIZE)\n",
    "        self.d2 = nn.Linear(UNITSIZE, OUTPUTSIZE)\n",
    "\n",
    "    def forward(self, x):\n",
    "        x = self.flatten(x)\n",
    "        x = torch.relu(self.d1(x))\n",
    "        x = self.d2(x)\n",
    "        return x\n",
    "\n",
    "if __name__ == \"__main__\":\n",
    "    main()"
   ]
  },
  {
   "cell_type": "markdown",
   "metadata": {
    "id": "kpWC8psuZY4I"
   },
   "source": [
    "以下の記述を追加しました．\n",
    "```python\n",
    "            torch.save(model.state_dict(), \"mlp-mnist-model.pt\") # モデルを保存するための記述．\n",
    "```"
   ]
  },
  {
   "cell_type": "markdown",
   "metadata": {
    "id": "L2gG1WirZzui"
   },
   "source": [
    "以下のシェルのコマンドを打つと，ディレクトリが新規に生成されていることを確認できます．"
   ]
  },
  {
   "cell_type": "code",
   "execution_count": null,
   "metadata": {
    "id": "QlUp1PeMSmXK"
   },
   "outputs": [],
   "source": [
    "! ls"
   ]
  },
  {
   "cell_type": "markdown",
   "metadata": {
    "id": "kdL47cFCZ-Am"
   },
   "source": [
    "最後に，以下のコードで保存したモデル（実体はパラメータ）を呼び出して，テストセットにてその性能を評価します．"
   ]
  },
  {
   "cell_type": "code",
   "execution_count": null,
   "metadata": {
    "id": "mMJ1zj67S-Ya"
   },
   "outputs": [],
   "source": [
    "#!/usr/bin/env python3\n",
    "import torch\n",
    "import torch.nn as nn\n",
    "import numpy as np\n",
    "from torchvision import datasets, transforms\n",
    "from torch.utils.data import DataLoader\n",
    "import matplotlib.pyplot as plt\n",
    "torch.manual_seed(0)\n",
    "np.random.seed(0)\n",
    "\n",
    "def main():\n",
    "    # GPUの使用の設定．\n",
    "    device = torch.device(\"cuda\" if torch.cuda.is_available() else \"cpu\")\n",
    "\n",
    "    # ハイパーパラメータの設定．\n",
    "    MAXEPOCH = 50\n",
    "    MINIBATCHSIZE = 500\n",
    "    UNITSIZE = 500\n",
    "    PATIENCE = 5\n",
    "\n",
    "    # データの読み込みと前処理．\n",
    "    transform = transforms.Compose([transforms.ToTensor()])\n",
    "    learn_dataset = datasets.MNIST(root='./data', train=True, download=True, transform=transform)\n",
    "    test_dataset = datasets.MNIST(root='./data', train=False, download=True, transform=transform)\n",
    "\n",
    "    # データローダーの設定．\n",
    "    test_loader = torch.utils.data.DataLoader(test_dataset, batch_size=len(test_dataset), shuffle=False)\n",
    "\n",
    "    # ネットワークの定義．\n",
    "    model = Network(UNITSIZE, len(learn_dataset.classes)).to(device)\n",
    "\n",
    "    # モデルの読み込み\n",
    "    model.load_state_dict(torch.load(\"mlp-mnist-model.pt\"))\n",
    "    model.eval()\n",
    "    criterion = nn.CrossEntropyLoss()\n",
    "\n",
    "    # テストデータセットでの推論．\n",
    "    testcost, testacc = 0, 0\n",
    "    total_samples = len(test_dataset)\n",
    "    with torch.no_grad():\n",
    "        for tx, tt in test_loader:\n",
    "            tx = tx.to(device)\n",
    "            ty = model(tx)\n",
    "            tt = tt.to(device)\n",
    "            loss = criterion(ty, tt)\n",
    "            testcost += loss.item()\n",
    "            prediction = ty.argmax(dim=1) # Accuracyを計算するために予測値を計算．\n",
    "            testacc += (prediction == tt).sum().item() / total_samples # Accuracyを計算．\n",
    "    testcost /= len(test_loader)\n",
    "    print(\"Test cost= {:7.4f} Test ACC= {:7.4f}\".format(testcost,testacc))\n",
    "\n",
    "    # テストセットの最初の画像だけに対する推論．\n",
    "    test_loader = DataLoader(test_dataset, batch_size=1, shuffle=False)\n",
    "    for tx, tt in test_loader:\n",
    "        tx, tt = tx.to(device), tt.to(device)\n",
    "        # テストセットの最初の画像を表示．\n",
    "        plt.imshow(tx[0].cpu().squeeze(), cmap=\"gray\")\n",
    "        plt.text(1, 2.5, str(int(tt[0].item())), fontsize=20, color=\"white\")\n",
    "        plt.show()\n",
    "        # 予測．\n",
    "        ty = model(tx)\n",
    "        output_vector = ty.cpu().detach().numpy()  # CPUに移動し、NumPy配列に変換\n",
    "        print(\"Output vector:\", output_vector)\n",
    "        print(\"Argmax of the output vector:\", np.argmax(output_vector))\n",
    "        # 最初の画像の処理のみを行いたいため、ループを抜ける．\n",
    "        break\n",
    "\n",
    "class Network(nn.Module):\n",
    "    def __init__(self, UNITSIZE, OUTPUTSIZE):\n",
    "        super(Network, self).__init__()\n",
    "        self.flatten = nn.Flatten()\n",
    "        self.d1 = nn.Linear(28*28, UNITSIZE)\n",
    "        self.d2 = nn.Linear(UNITSIZE, OUTPUTSIZE)\n",
    "\n",
    "    def forward(self, x):\n",
    "        x = self.flatten(x)\n",
    "        x = torch.relu(self.d1(x))\n",
    "        x = self.d2(x)\n",
    "        return x\n",
    "\n",
    "if __name__ == \"__main__\":\n",
    "    main()"
   ]
  },
  {
   "cell_type": "markdown",
   "metadata": {
    "id": "u40e1GO1ec5u"
   },
   "source": [
    "学習済みモデルは以下のような記述で読み込みます．\n",
    "```python\n",
    "    # モデルの読み込み\n",
    "    model.load_state_dict(torch.load(\"mlp-mnist-model.pt\"))\n",
    "    model.eval()\n",
    "    criterion = nn.CrossEntropyLoss()\n",
    "\n",
    "```"
   ]
  },
  {
   "cell_type": "markdown",
   "metadata": {
    "id": "Uh4wQCGtesoF"
   },
   "source": [
    "最後に，テストセットの最初の画像を予測器に入れてその結果を確認してみます．以下のコードで行います．\n",
    "```python\n",
    "    # テストセットの最初の画像だけに対する推論．\n",
    "    test_loader = DataLoader(test_dataset, batch_size=1, shuffle=False)\n",
    "    for tx, tt in test_loader:\n",
    "        tx, tt = tx.to(device), tt.to(device)\n",
    "        # テストセットの最初の画像を表示．\n",
    "        plt.imshow(tx[0].cpu().squeeze(), cmap=\"gray\")\n",
    "        plt.text(1, 2.5, str(int(tt[0].item())), fontsize=20, color=\"white\")\n",
    "        plt.show()\n",
    "        # 予測．\n",
    "        ty = model(tx)\n",
    "        output_vector = ty.cpu().detach().numpy()  # CPUに移動し、NumPy配列に変換\n",
    "        print(\"Output vector:\", output_vector)\n",
    "        print(\"Argmax of the output vector:\", np.argmax(output_vector))\n",
    "        # 最初の画像の処理のみを行いたいため、ループを抜ける．\n",
    "        break\n",
    "```"
   ]
  },
  {
   "cell_type": "markdown",
   "metadata": {
    "id": "16UEDG3xe1Vu"
   },
   "source": [
    "実行すると，テストセットでも高い性能を示すことが確認できました．また，7が答えである画像を入力に，`7` を出力できていることを確認しました．"
   ]
  },
  {
   "cell_type": "markdown",
   "metadata": {
    "id": "_rfC8Kj03omW"
   },
   "source": [
    "```{note}\n",
    "終わりです．\n",
    "```"
   ]
  }
 ],
 "metadata": {
  "accelerator": "GPU",
  "colab": {
   "provenance": [],
   "toc_visible": true
  },
  "kernelspec": {
   "display_name": "Python 3 (ipykernel)",
   "language": "python",
   "name": "python3"
  },
  "language_info": {
   "codemirror_mode": {
    "name": "ipython",
    "version": 3
   },
   "file_extension": ".py",
   "mimetype": "text/x-python",
   "name": "python",
   "nbconvert_exporter": "python",
   "pygments_lexer": "ipython3",
   "version": "3.7.7"
  }
 },
 "nbformat": 4,
 "nbformat_minor": 0
}