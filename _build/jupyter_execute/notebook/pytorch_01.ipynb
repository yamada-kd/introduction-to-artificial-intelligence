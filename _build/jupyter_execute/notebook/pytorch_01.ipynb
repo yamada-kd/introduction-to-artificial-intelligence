{
 "cells": [
  {
   "cell_type": "markdown",
   "metadata": {
    "id": "P8vvHzqFQnBR"
   },
   "source": [
    "# PyTorch の基本的な利用方法"
   ]
  },
  {
   "cell_type": "markdown",
   "metadata": {
    "id": "m-rS1NwpIQD0"
   },
   "source": [
    "## 基本操作"
   ]
  },
  {
   "cell_type": "markdown",
   "metadata": {
    "id": "VxG3YqwyflsK"
   },
   "source": [
    "この節では PyTorch の基本的な操作方法を紹介します．"
   ]
  },
  {
   "cell_type": "markdown",
   "metadata": {
    "id": "y4pIjMzbXtuU"
   },
   "source": [
    "### インポート"
   ]
  },
  {
   "cell_type": "markdown",
   "metadata": {
    "id": "sI8-egZJX78k"
   },
   "source": [
    "NumPy と同じように PyTorch をインポートします．"
   ]
  },
  {
   "cell_type": "code",
   "execution_count": null,
   "metadata": {
    "id": "n1iiV87dOaVp"
   },
   "outputs": [],
   "source": [
    "#!/usr/bin/env python3\n",
    "import torch\n",
    "\n",
    "def main():\n",
    "    print(torch.__version__)\n",
    "\n",
    "if __name__ == \"__main__\":\n",
    "    main()"
   ]
  },
  {
   "cell_type": "markdown",
   "metadata": {
    "id": "9XbV2Xd-IpDs"
   },
   "source": [
    "### テンソル"
   ]
  },
  {
   "cell_type": "markdown",
   "metadata": {
    "id": "u5E3RYl2IvTI"
   },
   "source": [
    "PyTorch では「テンソル」と呼ばれる NumPy の多次元配列に類似したデータ構造を用います．2行目で PyTorch をインポートします．5行目のテンソルを生成するためのコマンドは `torch.zeros()` で，これによって，全要素が `0` であるテンソルが生成されます．最初の引数には生成されるテンソルの次元数を指定します．また，データのタイプを指定することができますが以下の場合は32ビットのフロートの値を生成しています．"
   ]
  },
  {
   "cell_type": "code",
   "execution_count": null,
   "metadata": {
    "id": "bvFxFbccO04Z"
   },
   "outputs": [],
   "source": [
    "#!/usr/bin/env python3\n",
    "import torch\n",
    "\n",
    "def main():\n",
    "    tx = torch.zeros([3, 3], dtype=torch.float32)\n",
    "    print(tx)\n",
    "\n",
    "if __name__ == \"__main__\":\n",
    "    main()"
   ]
  },
  {
   "cell_type": "markdown",
   "metadata": {
    "id": "m3OV3w2Rf9ZU"
   },
   "source": [
    "以下のようにすると，整数を生成できます．"
   ]
  },
  {
   "cell_type": "code",
   "execution_count": null,
   "metadata": {
    "id": "DRhguUGeOaOR"
   },
   "outputs": [],
   "source": [
    "#!/usr/bin/env python3\n",
    "import torch\n",
    "\n",
    "def main():\n",
    "    tx = torch.zeros([3, 3], dtype=torch.int32)  # ここが整数を生成するための記述\n",
    "    print(tx)\n",
    "\n",
    "if __name__ == \"__main__\":\n",
    "    main()"
   ]
  },
  {
   "cell_type": "markdown",
   "metadata": {
    "id": "hsGqqw6OgOxQ"
   },
   "source": [
    "データのタイプを確認したい場合とテンソルのシェイプを確認したい場合は以下のようにします．"
   ]
  },
  {
   "cell_type": "code",
   "execution_count": null,
   "metadata": {
    "id": "7r8j06D_QNlf"
   },
   "outputs": [],
   "source": [
    "#!/usr/bin/env python3\n",
    "import torch\n",
    "\n",
    "def main():\n",
    "    tx = torch.zeros([4, 3], dtype=torch.int32)\n",
    "    print(tx.dtype)\n",
    "    print(tx.shape)\n",
    "\n",
    "if __name__ == \"__main__\":\n",
    "    main()"
   ]
  },
  {
   "cell_type": "markdown",
   "metadata": {
    "id": "s9h5gmCwgi8E"
   },
   "source": [
    "一様分布に従う乱数を生成したい場合には以下のようにします．一様分布の母数（パラメータ）は最小値と最大値です．ここでは，最小値が-1で最大値が1の一様分布 $U(-1,1)$ に従う乱数を生成します．"
   ]
  },
  {
   "cell_type": "code",
   "execution_count": null,
   "metadata": {
    "id": "5LR2ZWvo4VtL"
   },
   "outputs": [],
   "source": [
    "#!/usr/bin/env python3\n",
    "import torch\n",
    "\n",
    "def main():\n",
    "    tx = torch.rand(4, 3) * 2 - 1  # 0から1の乱数を生成して、-1から1の範囲に調整\n",
    "    print(tx)\n",
    "\n",
    "if __name__ == \"__main__\":\n",
    "    main()"
   ]
  },
  {
   "cell_type": "markdown",
   "metadata": {
    "id": "z3wbNer26x33"
   },
   "source": [
    "以下のようにしてもできます．"
   ]
  },
  {
   "cell_type": "code",
   "execution_count": null,
   "metadata": {
    "id": "Bkk1WQL-6h88"
   },
   "outputs": [],
   "source": [
    "#!/usr/bin/env python3\n",
    "import torch\n",
    "\n",
    "def main():\n",
    "    tx = torch.FloatTensor(4, 3).uniform_(-1, 1)  # -1から1の範囲の一様分布から乱数を生成\n",
    "    print(tx)\n",
    "\n",
    "if __name__ == \"__main__\":\n",
    "    main()"
   ]
  },
  {
   "cell_type": "markdown",
   "metadata": {
    "id": "leflQNA0iLBu"
   },
   "source": [
    "上のコードセルを何度か繰り返し実行すると一様分布に従う4行3列のテンソルの値が生成されますが，1回ごとに異なる値が出力されているはずです．これは計算機実験をする際にとても厄介です．再現性が取れないからです．これを防ぐために「乱数の種」というものを設定します．以下のコードの3行目のような指定を追加します．ここでは，0という値を乱数の種に設定していますが，これはなんでも好きな値を設定して良いです．"
   ]
  },
  {
   "cell_type": "markdown",
   "metadata": {
    "id": "oSuFFwBlQlFo"
   },
   "source": [
    "```{note}\n",
    "何度か繰り返し実行しましょう．\n",
    "```"
   ]
  },
  {
   "cell_type": "code",
   "execution_count": null,
   "metadata": {
    "id": "gXogG0Og7FXc"
   },
   "outputs": [],
   "source": [
    "#!/usr/bin/env python3\n",
    "import torch\n",
    "torch.manual_seed(0)  # 乱数の種を設定\n",
    "\n",
    "def main():\n",
    "    tx = torch.FloatTensor(4, 3).uniform_(-1, 1)  # -1から1の範囲の一様分布から乱数を生成\n",
    "    print(tx)\n",
    "\n",
    "if __name__ == \"__main__\":\n",
    "    main()"
   ]
  },
  {
   "cell_type": "markdown",
   "metadata": {
    "id": "3SclgIybphg_"
   },
   "source": [
    "```{note}\n",
    "普通，科学的な計算機実験をする際に乱数の種を固定せずに計算を開始することはあり得ません．乱数を使う場合は常に乱数の種を固定しておくことを習慣づける必要があります．\n",
    "```"
   ]
  },
  {
   "cell_type": "markdown",
   "metadata": {
    "id": "CW33cWi7MHz0"
   },
   "source": [
    "テンソルは Python 配列より変換することもできます．"
   ]
  },
  {
   "cell_type": "code",
   "execution_count": null,
   "metadata": {
    "id": "Hf1dzpTu7ktt"
   },
   "outputs": [],
   "source": [
    "#!/usr/bin/env python3\n",
    "import torch\n",
    "\n",
    "def main():\n",
    "    tx = torch.tensor([2, 4], dtype=torch.float32)\n",
    "    print(tx)\n",
    "\n",
    "if __name__ == \"__main__\":\n",
    "    main()"
   ]
  },
  {
   "cell_type": "markdown",
   "metadata": {
    "id": "KWYZ1MSbNbJ2"
   },
   "source": [
    "### 四則計算"
   ]
  },
  {
   "cell_type": "markdown",
   "metadata": {
    "id": "DGag-E6SNg0n"
   },
   "source": [
    "テンソルの四則計算は以下のように行います．最初に足し算を行います．NumPy と同じようにやはり element-wise な計算です．実行結果は `tensor([3, 7])` となっており，テンソルが出力されていることがわかります．"
   ]
  },
  {
   "cell_type": "code",
   "execution_count": null,
   "metadata": {
    "id": "Tcpk8IHJ8XzB"
   },
   "outputs": [],
   "source": [
    "#!/usr/bin/env python3\n",
    "import torch\n",
    "\n",
    "def main():\n",
    "    tx = torch.add(torch.tensor([2, 4]), torch.tensor([1, 3]))  # テンソル同士の加算\n",
    "    print(tx)\n",
    "\n",
    "if __name__ == \"__main__\":\n",
    "    main()"
   ]
  },
  {
   "cell_type": "markdown",
   "metadata": {
    "id": "mtHC7tAO8QDY"
   },
   "source": [
    "以下では，ふたつの NumPy 多次元配列を生成しそれらを足し合わせる場合も同じようにテンソルに変換します．"
   ]
  },
  {
   "cell_type": "code",
   "execution_count": null,
   "metadata": {
    "id": "D1MznJ8RHYNd"
   },
   "outputs": [],
   "source": [
    "#!/usr/bin/env python3\n",
    "import numpy as np\n",
    "import torch\n",
    "\n",
    "def main():\n",
    "    na = np.array([[1, 2], [1, 3]])\n",
    "    nb = np.array([[2, 3], [4, 5]])\n",
    "    tx = torch.tensor(na) + torch.tensor(nb)  # NumPy配列をテンソルに変換してから加算\n",
    "    print(tx)\n",
    "\n",
    "if __name__ == \"__main__\":\n",
    "    main()"
   ]
  },
  {
   "cell_type": "markdown",
   "metadata": {
    "id": "QUhfqE_vHgfJ"
   },
   "source": [
    "```{note}\n",
    "このような型変換の柔軟性は TensorFlow の方があります．柔軟だから良いわけではありません．\n",
    "```"
   ]
  },
  {
   "cell_type": "markdown",
   "metadata": {
    "id": "wIHTCsNe9Los"
   },
   "source": [
    "その他の四則演算は以下のように行います．"
   ]
  },
  {
   "cell_type": "code",
   "execution_count": null,
   "metadata": {
    "id": "aBOr-OyXH_YJ"
   },
   "outputs": [],
   "source": [
    "#!/usr/bin/env python3\n",
    "import numpy as np\n",
    "import torch\n",
    "\n",
    "def main():\n",
    "    ta = torch.tensor([[1, 2], [1, 3]])\n",
    "    tb = torch.tensor([[2, 3], [5, 6]])\n",
    "    print(torch.add(ta, tb))      # 加算\n",
    "    print(torch.subtract(tb, ta)) # 減算\n",
    "    print(torch.multiply(ta, tb)) # 乗算\n",
    "    print(torch.divide(tb, ta))   # 除算\n",
    "\n",
    "if __name__ == \"__main__\":\n",
    "    main()"
   ]
  },
  {
   "cell_type": "markdown",
   "metadata": {
    "id": "hZsxlrJPogtx"
   },
   "source": [
    "上の `torch.multiply()` はテンソルの要素ごとの積（アダマール積）を計算するための方法です．行列の積は以下のように `torch.matmul()` を利用します．"
   ]
  },
  {
   "cell_type": "code",
   "execution_count": null,
   "metadata": {
    "id": "g8OWYJD5JnEt"
   },
   "outputs": [],
   "source": [
    "#!/usr/bin/env python3\n",
    "import torch\n",
    "\n",
    "def main():\n",
    "    ta = torch.tensor([[1, 2], [1, 3]], dtype=torch.float32)\n",
    "    tb = torch.tensor([[2, 3], [5, 6]], dtype=torch.float32)\n",
    "    print(torch.matmul(ta, tb))\n",
    "\n",
    "if __name__ == \"__main__\":\n",
    "    main()"
   ]
  },
  {
   "cell_type": "markdown",
   "metadata": {
    "id": "BITRSzxe_BTV"
   },
   "source": [
    "テンソルもブロードキャストしてくれます．以下のようなテンソルとスカラの計算も良い感じで解釈して実行してくれます．"
   ]
  },
  {
   "cell_type": "code",
   "execution_count": null,
   "metadata": {
    "id": "GbkDlMhg_BTX"
   },
   "outputs": [],
   "source": [
    "#!/usr/bin/env python3\n",
    "import torch\n",
    "\n",
    "def main():\n",
    "    ta = torch.tensor([[1, 2], [1, 3]], dtype=torch.float32)\n",
    "    print(torch.add(ta, 1))\n",
    "\n",
    "if __name__ == \"__main__\":\n",
    "    main()"
   ]
  },
  {
   "cell_type": "markdown",
   "metadata": {
    "id": "Oj83_Pzq_w1t"
   },
   "source": [
    "以下のように `+` や `-` を使って記述することも可能です．"
   ]
  },
  {
   "cell_type": "code",
   "execution_count": null,
   "metadata": {
    "id": "bQmsUihu_mU8"
   },
   "outputs": [],
   "source": [
    "#!/usr/bin/env python3\n",
    "import torch\n",
    "\n",
    "def main():\n",
    "    ta = torch.tensor([2, 4], dtype=torch.float32)\n",
    "    tb = torch.tensor([5, 6], dtype=torch.float32)\n",
    "    print(ta + tb)\n",
    "    print(tb - ta)\n",
    "    print(ta * tb)\n",
    "    print(tb / ta)\n",
    "    print(tb // ta)\n",
    "    print(tb % ta)\n",
    "\n",
    "if __name__ == \"__main__\":\n",
    "    main()"
   ]
  },
  {
   "cell_type": "markdown",
   "metadata": {
    "id": "MzN2XnGLANYU"
   },
   "source": [
    "二乗の計算やテンソルの要素の総和を求めるための便利な方法も用意されています．このような方法は状況に応じてその都度調べて使います．全部覚える必要はありません．"
   ]
  },
  {
   "cell_type": "code",
   "execution_count": null,
   "metadata": {
    "id": "kLwLnyGP5HKs"
   },
   "outputs": [],
   "source": [
    "#!/usr/bin/env python3\n",
    "import torch\n",
    "\n",
    "def main():\n",
    "    nx = torch.tensor([1, 2, 3], dtype=torch.float32)\n",
    "    print(torch.square(nx))\n",
    "    print(torch.sum(nx))\n",
    "\n",
    "if __name__ == \"__main__\":\n",
    "    main()"
   ]
  },
  {
   "cell_type": "markdown",
   "metadata": {
    "id": "NNaryOoKorWS"
   },
   "source": [
    "### 特殊な操作"
   ]
  },
  {
   "cell_type": "markdown",
   "metadata": {
    "id": "xAJ8XRGYiVOg"
   },
   "source": [
    "以下のようなスライスの実装も NumPy と同じです．"
   ]
  },
  {
   "cell_type": "code",
   "execution_count": null,
   "metadata": {
    "id": "Ak0REPXg5S6s"
   },
   "outputs": [],
   "source": [
    "#!/usr/bin/env python3\n",
    "import torch\n",
    "\n",
    "def main():\n",
    "    tx = torch.tensor([[2, 4], [6, 8]], dtype=torch.float32)\n",
    "    # 列のスライスを取得\n",
    "    print(tx[:, 0])\n",
    "\n",
    "if __name__ == \"__main__\":\n",
    "    main()"
   ]
  },
  {
   "cell_type": "markdown",
   "metadata": {
    "id": "gqZwi9rQELJD"
   },
   "source": [
    "```{note}\n",
    "これは2行2列の行列の1列目の値を取り出す操作です．\n",
    "```"
   ]
  },
  {
   "cell_type": "markdown",
   "metadata": {
    "id": "_KKIvueijDjI"
   },
   "source": [
    "テンソルのサイズの変更には `tf.reshape()` を利用します．"
   ]
  },
  {
   "cell_type": "code",
   "execution_count": null,
   "metadata": {
    "id": "lTI5xCqb5Yzh"
   },
   "outputs": [],
   "source": [
    "#!/usr/bin/env python3\n",
    "import torch\n",
    "\n",
    "def main():\n",
    "    tx = torch.rand(4, 5, dtype=torch.float32)\n",
    "    print(tx)\n",
    "    print(torch.reshape(tx, [20]))\n",
    "    print(torch.reshape(tx, [1, 20]))\n",
    "    print(torch.reshape(tx, [5, 4]))\n",
    "    print(torch.reshape(tx, [-1, 4]))\n",
    "\n",
    "if __name__ == \"__main__\":\n",
    "    main()"
   ]
  },
  {
   "cell_type": "markdown",
   "metadata": {
    "id": "XPXNX04PjN5o"
   },
   "source": [
    "以上のプログラムの6行目では4行5列の行列が生成されています．これを，20要素からなるベクトルに変換するのが7行目の記述です．また，8行目の記述では1行20列の行列を生成できます．また，9行目は5行4列の行列を生成するためのものです．同じく10行目も5行4列の行列を生成します．ここでは，`torch.reshape()` の shape を指定するオプションの最初の引数に `-1` が指定されていますが，これのように書くと自動でその値が推測されます．この場合，`5` であると推測されています．"
   ]
  },
  {
   "cell_type": "markdown",
   "metadata": {
    "id": "mQifYF2hlWiq"
   },
   "source": [
    "### 変数の変換"
   ]
  },
  {
   "cell_type": "markdown",
   "metadata": {
    "id": "3o0C4heMmaxN"
   },
   "source": [
    "これまでに，NumPy の多次元配列を PyTorch のテンソルに変換する方法は確認しました．テンソルを NumPy 配列に変換するには明示的に `numpy()` を指定する方法があります．6行目は NumPy 配列を生成します．8行目はその NumPy 配列をテンソルに変換します．さらに，NumPy 配列に戻すためには10行目のように `.numpy()` を利用します．"
   ]
  },
  {
   "cell_type": "code",
   "execution_count": null,
   "metadata": {
    "id": "cFKwjVl35uyD"
   },
   "outputs": [],
   "source": [
    "#!/usr/bin/env python3\n",
    "import numpy as np\n",
    "import torch\n",
    "\n",
    "def main():\n",
    "    na = np.ones(5)\n",
    "    print(\"NumPy:\", na)\n",
    "    ta = torch.tensor(na, dtype=torch.float32)\n",
    "    print(\"Tensor:\", ta)\n",
    "    na = ta.numpy()\n",
    "    print(\"NumPy:\", na)\n",
    "\n",
    "if __name__ == \"__main__\":\n",
    "    main()"
   ]
  },
  {
   "cell_type": "markdown",
   "metadata": {
    "id": "YA03dSTb6ZTu"
   },
   "source": [
    "PyTorch では NumPy 配列，テンソル，に加えて GPU 上のテンソルを扱う必要があります．この3つの変数のタイプを自由に変換することができます．ただし，NumPy 配列から直接 GPU 上のテンソルへの変換はできません．"
   ]
  },
  {
   "cell_type": "code",
   "execution_count": null,
   "metadata": {
    "id": "W2oNdPlhJGHx"
   },
   "outputs": [],
   "source": [
    "#!/usr/bin/env python3\n",
    "import numpy as np\n",
    "import torch\n",
    "\n",
    "def main():\n",
    "    na = np.ones(5)\n",
    "    print(\"NumPy:\", na)\n",
    "    ta = torch.tensor(na, dtype=torch.float32)\n",
    "    print(\"Torch:\", ta)\n",
    "    na = ta.numpy()\n",
    "    print(\"NumPy:\", na)\n",
    "    device = torch.device(\"cuda\")\n",
    "    ca = ta.to(device)\n",
    "    print(\"CUDA:\", ca)\n",
    "    ta = ca.to(\"cpu\", dtype=torch.float32)\n",
    "    print(\"Torch:\", ta)\n",
    "\n",
    "if __name__ == \"__main__\":\n",
    "    main()"
   ]
  },
  {
   "cell_type": "markdown",
   "metadata": {
    "id": "iNDFuc1_mxKM"
   },
   "source": [
    "以上のプログラムにおいて，7行目は NumPy 配列を生成します．9行目はその NumPy 配列をテンソルに変換します．さらに，NumPy 配列に戻すためには11行目のように `.numpy()` を利用します．13行目では CUDA のデバイスを定義しています．この環境で GPU を利用するには上のメニューの「ランタイム」から「ランタイムのタイプを変更」と進み，「ハードウェアアクセラレータ」の「GPU」を選択します．定義したデバイスに変数を送るには `.to()` を利用します．14行目のように記述します．16行目は GPU 上の変数を CPU 上のテンソルへと戻す記述です．これは以下のように書くこともできます．"
   ]
  },
  {
   "cell_type": "code",
   "execution_count": null,
   "metadata": {
    "id": "Hy_HTeBv7ZYn"
   },
   "outputs": [],
   "source": [
    "#!/usr/bin/env python3\n",
    "import numpy as np\n",
    "import torch\n",
    "\n",
    "def main():\n",
    "    na = np.ones(5)\n",
    "    print(\"NumPy:\", na)\n",
    "    ta = torch.tensor(na, dtype=torch.float32)\n",
    "    print(\"Torch:\", ta)\n",
    "    na = ta.numpy()\n",
    "    print(\"NumPy:\", na)\n",
    "    ca = ta.cuda()\n",
    "    print(\"CUDA:\", ca)\n",
    "    ta = ca.cpu()\n",
    "    print(\"Torch:\", ta)\n",
    "\n",
    "if __name__ == \"__main__\":\n",
    "    main()"
   ]
  },
  {
   "cell_type": "markdown",
   "metadata": {
    "id": "ON4sbU-R7qak"
   },
   "source": [
    "GPU を利用できない環境にてエラーを防ぐには以下のようにすると良いでしょう．"
   ]
  },
  {
   "cell_type": "code",
   "execution_count": null,
   "metadata": {
    "id": "PoGgukcJ7v-h"
   },
   "outputs": [],
   "source": [
    "#!/usr/bin/env python3\n",
    "import numpy as np\n",
    "import torch\n",
    "\n",
    "def main():\n",
    "    na = np.ones(5)\n",
    "    print(\"NumPy:\", na)\n",
    "    ta = torch.tensor(na, dtype=torch.float32)\n",
    "    print(\"Torch:\", ta)\n",
    "    na = ta.numpy()\n",
    "    print(\"NumPy:\", na)\n",
    "\n",
    "    if torch.cuda.is_available():\n",
    "        ca = ta.cuda()\n",
    "        print(\"CUDA:\", ca)\n",
    "        ta = ca.cpu()\n",
    "        print(\"Torch:\", ta)\n",
    "    else:\n",
    "        print(\"CUDA is not available.\")\n",
    "\n",
    "if __name__ == \"__main__\":\n",
    "    main()"
   ]
  },
  {
   "cell_type": "markdown",
   "metadata": {
    "id": "ZDi8Gr3_ozlr"
   },
   "source": [
    "## 最急降下法"
   ]
  },
  {
   "cell_type": "markdown",
   "metadata": {
    "id": "rwg6U2iephhF"
   },
   "source": [
    "深層ニューラルネットワークのパラメータを更新するためには何らかの最適化法が利用されます．最も簡単な最適化法である最急降下法を実装します．"
   ]
  },
  {
   "cell_type": "markdown",
   "metadata": {
    "id": "HrVYbuYSphhF"
   },
   "source": [
    "### 単一の変数に対する勾配"
   ]
  },
  {
   "cell_type": "markdown",
   "metadata": {
    "id": "ScvgZTYqDzGE"
   },
   "source": [
    "深層学習の最も基本的な構成要素は行列の掛け算と微分です．PyTorch はこれを行うライブラリです．自動微分機能を提供します．微分をしたい変数の生成は以下のように行います．テンソル型の変数を生成する際に，`requires_grad=True` を追加するだけです．"
   ]
  },
  {
   "cell_type": "code",
   "execution_count": null,
   "metadata": {
    "id": "RklK4OoTDzGF"
   },
   "outputs": [],
   "source": [
    "#!/usr/bin/env python3\n",
    "import torch\n",
    "\n",
    "def main():\n",
    "    tx = torch.tensor(5, dtype=torch.float32, requires_grad=True)\n",
    "    print(tx)\n",
    "\n",
    "if __name__ == \"__main__\":\n",
    "    main()"
   ]
  },
  {
   "cell_type": "markdown",
   "metadata": {
    "id": "SgKn8c-QNBuH"
   },
   "source": [
    "深層学習法におけるアルゴリズムの中身を分解すると行列の掛け算と微分から構成されていることがわかります．PyTorch はこの行列の掛け算と微分を行うライブラリです．自動微分機能を提供します．ここでは勾配の計算を紹介するため，以下の式を考えます．\n",
    "\n",
    "$y = x^2 + 2$\n",
    "\n",
    "これに対して以下の偏微分を計算することができます．\n",
    "\n",
    "$\\dfrac{\\partial y}{\\partial x} = 2x$\n",
    "\n",
    "よって $x=5$ のときの偏微分係数は以下のように計算できます．\n",
    "\n",
    "$\\left.\\dfrac{\\partial y}{\\partial x}\\right|_{x=5}=10$\n",
    "\n",
    "これを PyTorch で実装すると以下のように書けます．微分は10行目のように `tape.gradient()` によって行います．"
   ]
  },
  {
   "cell_type": "code",
   "execution_count": null,
   "metadata": {
    "id": "QzIddokRDesW"
   },
   "outputs": [],
   "source": [
    "#!/usr/bin/env python3\n",
    "import torch\n",
    "\n",
    "def main():\n",
    "    tx = torch.tensor(5, dtype=torch.float32, requires_grad=True)  # 勾配を追跡するためにrequires_grad=Trueを指定\n",
    "    ty = tx**2 + 2  # 勾配を求めたい計算式\n",
    "    ty.backward()  # 勾配を計算\n",
    "    grad = tx.grad  # 計算された勾配を取得\n",
    "    print(grad)\n",
    "\n",
    "if __name__ == \"__main__\":\n",
    "    main()"
   ]
  },
  {
   "cell_type": "markdown",
   "metadata": {
    "id": "6WS7yjY7phhG"
   },
   "source": [
    "### 複数の変数に対する勾配"
   ]
  },
  {
   "cell_type": "markdown",
   "metadata": {
    "id": "1Eg7ZvIb4uj5"
   },
   "source": [
    "上の程度の微分だとこの自動微分機能はさほど有難くないかもしれませんが，以下のような計算となると，そこそこ有難くなってきます．以下では，(1, 2) の行列 `ts` と (2, 2) の行列 `tt` と (2, 1) の行列 `tu` を順に掛けることで，最終的に (1, 1) の行列の値，スカラー値を得ますが，それを `tt` で微分した値を計算しています（`tt` で偏微分したので得られる行列のシェイプは `tt` と同じ）．"
   ]
  },
  {
   "cell_type": "code",
   "execution_count": null,
   "metadata": {
    "id": "GFjlbNcVEeAv"
   },
   "outputs": [],
   "source": [
    "#!/usr/bin/env python3\n",
    "import torch\n",
    "\n",
    "def main():\n",
    "    # Definition\n",
    "    ts = torch.tensor([[2, 1]], dtype=torch.float32)\n",
    "    tt = torch.tensor([[2, 4], [6, 8]], dtype=torch.float32, requires_grad=True)  # これが変数．勾配の追跡を有効化．\n",
    "    tu = torch.tensor([[4], [1]], dtype=torch.float32)\n",
    "    # Calculation\n",
    "    tz = torch.matmul(torch.matmul(ts, tt), tu)\n",
    "    tz.backward()  # 勾配を計算．\n",
    "    grad = tt.grad  # ttに関するtzの勾配を取得．\n",
    "    print(grad)\n",
    "\n",
    "if __name__ == \"__main__\":\n",
    "    main()"
   ]
  },
  {
   "cell_type": "markdown",
   "metadata": {
    "id": "q8NgYBE6Uhtp"
   },
   "source": [
    "これは以下のような計算をしています．`tf.Variable()` で定義される行列は以下です：\n",
    "\n",
    "$\n",
    "  t = \\left[\n",
    "    \\begin{array}{cc}\n",
    "      v & w \\\\\n",
    "      x & y \\\\\n",
    "    \\end{array}\n",
    "  \\right]\n",
    "$．\n",
    "\n",
    "また，`tf.constant()` で定義される行列は以下です：\n",
    "\n",
    "$s = \\left[\n",
    "    \\begin{array}{cc}\n",
    "      2 & 1 \\\\\n",
    "    \\end{array}\n",
    "  \\right]\n",
    "$，\n",
    "\n",
    "$u = \\left[\n",
    "    \\begin{array}{c}\n",
    "      4 \\\\\n",
    "      1\n",
    "    \\end{array}\n",
    "  \\right]\n",
    "$．\n",
    "\n",
    "これに対して11行目の計算で得られる値は以下です：\n",
    "\n",
    "$z(v,w,x,y) = 8v+2w+4x+y$．\n",
    "\n",
    "よってこれらを偏微分して，それぞれの変数がプログラム中で定義される値のときの値は以下のように計算されます：\n",
    "\n",
    "$\\left.\\dfrac{\\partial z}{\\partial v}\\right|_{(v,w,x,y)=(2,4,6,8)}=8$，\n",
    "\n",
    "$\\left.\\dfrac{\\partial z}{\\partial w}\\right|_{(v,w,x,y)=(2,4,6,8)}=2$，\n",
    "\n",
    "$\\left.\\dfrac{\\partial z}{\\partial x}\\right|_{(v,w,x,y)=(2,4,6,8)}=4$，\n",
    "\n",
    "$\\left.\\dfrac{\\partial z}{\\partial y}\\right|_{(v,w,x,y)=(2,4,6,8)}=1$．"
   ]
  },
  {
   "cell_type": "markdown",
   "metadata": {
    "id": "ssoE0TXZZZFO"
   },
   "source": [
    "```{note}\n",
    "これにコスト関数と活性化関数付けて最急降下法やったらニューラルネットワークです．自動微分すごい．\n",
    "```"
   ]
  },
  {
   "cell_type": "markdown",
   "metadata": {
    "id": "X3TqD0mFphhG"
   },
   "source": [
    "### 最急降下法の実装"
   ]
  },
  {
   "cell_type": "markdown",
   "metadata": {
    "id": "VIcYlmn4fOHa"
   },
   "source": [
    "なぜ微分を求めたいかというと，勾配法（深層学習の場合，普通，最急降下法）でパラメータをアップデートしたいからです．以下では最急降下法を実装してみます．最急降下法は関数の最適化法です．ある関数に対して極小値（極大値）を計算するためのものです．以下のような手順で計算が進みます．\n"
   ]
  },
  {
   "cell_type": "markdown",
   "metadata": {
    "id": "KoPzBflNfOHb"
   },
   "source": [
    "1.   初期パラメータ（$\\theta_0$）をランダムに生成します．\n",
    "2.   もしパラメータ（$\\theta_t$）が最適値または，最適値に近いなら計算をやめます．ここで，$t$ は以下の繰り返しにおける $t$ 番目のパラメータです．\n",
    "3.   パラメータを以下の式によって更新し，かつ，$t$ の値を $1$ だけ増やします．ここで，$\\alpha$ は学習率と呼ばれる更新の大きさを決める値で，$g_t$ は $t$ のときの目的の関数の勾配です．<br>\n",
    "    $\\theta_{t+1}=\\theta_t-\\alpha g_t$\n",
    "4.   ステップ2と3を繰り返します．\n"
   ]
  },
  {
   "cell_type": "markdown",
   "metadata": {
    "id": "DBO2KLmTfOHb"
   },
   "source": [
    "ここでは以下の関数を考えます．\n",
    "\n",
    "$\\displaystyle y=f(x)=\\frac{1}{2}(x+1)^2+1$\n",
    "\n",
    "よって勾配ベクトル場は以下のように計算されます．\n",
    "\n",
    "$\\nabla f=x+1$\n",
    "\n",
    "初期パラメータを以下のように決めます（実際にはランダムに決める）．\n",
    "\n",
    "$x_0=1.6$\n",
    "\n",
    "この関数の極小値を見つけたいのです．これは解析的に解くのはとても簡単で，括弧の中が0になる値，すなわち $x$ が $-1$ のとき，極小値 $y=1$ です．"
   ]
  },
  {
   "cell_type": "markdown",
   "metadata": {
    "id": "MYPnaCGCfOHb"
   },
   "source": [
    "最急降下法で解くと，以下の図のようになります．最急降下法は解析的に解くことが難しい問題を正解の方向へ少しずつ反復的に動かしていく方法です．"
   ]
  },
  {
   "cell_type": "markdown",
   "metadata": {
    "id": "flQOLs6gfOHb"
   },
   "source": [
    "<img src=\"https://github.com/yamada-kd/introduction-to-artificial-intelligence/blob/main/image/gradientDescent.svg?raw=1\" width=\"100%\" />"
   ]
  },
  {
   "cell_type": "markdown",
   "metadata": {
    "id": "r39lsxkcfOHb"
   },
   "source": [
    "これを PyTorch を用いて実装すると以下のようになります．出力中，`Objective` は目的関数の値，`Solution` はその時点での解です．最終的に $x=-0.9912\\simeq-1$ のとき，最適値 $y=1$ が出力されています．"
   ]
  },
  {
   "cell_type": "code",
   "execution_count": null,
   "metadata": {
    "id": "27sbESOjFFNm"
   },
   "outputs": [],
   "source": [
    "#!/usr/bin/env python3\n",
    "import torch\n",
    "\n",
    "def main():\n",
    "    tx = torch.tensor(1.6, dtype=torch.float32, requires_grad=True)  # これが変数．勾配の追跡を有効化．\n",
    "    epoch, update_value, lr = 1, 5, 0.1  # 更新値はダミー変数．\n",
    "    while abs(update_value) > 0.001:\n",
    "        ty = (1/2) * (tx + 1)**2 + 1\n",
    "        ty.backward()  # 勾配を計算．\n",
    "        with torch.no_grad():  # 勾配更新時には自動微分を無効化\n",
    "            update_value = lr * tx.grad.item() # item()メソッドを使うことでPythonの数値を取得できる．\n",
    "            tx -= update_value\n",
    "            tx.grad.zero_()  # 勾配を手動でゼロクリア\n",
    "        print(\"Epoch {:4d}:\\tObjective = {:5.3f}\\tSolution = {:7.4f}\".format(epoch, ty, tx.detach().numpy()))\n",
    "        epoch += 1\n",
    "\n",
    "if __name__ == \"__main__\":\n",
    "    main()"
   ]
  },
  {
   "cell_type": "markdown",
   "metadata": {
    "id": "kDAMTJa6fOHc"
   },
   "source": [
    "5行目で最初のパラメータを発生させています．通常は乱数によってこの値を決めますが，ここでは上の図に合わせて1.6とします．次の6行目では，最初のエポック，更新値，学習率を定義します．エポックとは（ここでは）パラメータの更新回数のことを言います．7行目は終了条件です．以上のような凸関数においては勾配の値が0になる点が本当の最適値（正しくは停留点）ではありますが，計算機的にはパラメータを更新する値が大体0になったところで計算を打ち切ります．この場合，「大体0」を「0.001」としました．8\n",
    "行目は目的の関数，9行目で微分をしています．11行目は最急降下法で更新する値を計算しています．12行目の計算で `tx` をアップデートします．この12行目こそが上述の最急降下法の式です．"
   ]
  },
  {
   "cell_type": "markdown",
   "metadata": {
    "id": "mcIbp4x4IWJE"
   },
   "source": [
    "```{note}\n",
    "PyTorch はデフォルトで計算した勾配を蓄積する特徴を持っています．テンソルの `.grad` 属性に蓄積されます．つまり，`.backward()` を行った後にもう一度 `.backward()` を行うと最初に計算した勾配に次に計算した勾配の値が加算されるのです．この蓄積を失くすために `.zero_()` をする必要があります．\n",
    "```"
   ]
  },
  {
   "cell_type": "markdown",
   "metadata": {
    "id": "NRz4Jz0bqHx_"
   },
   "source": [
    "```{note}\n",
    "ここで最急降下法について説明しましたが，このような実装は PyTorch を利用する際にする必要はありません．PyTorch はこのような計算をしてくれる方法を提供してくれています．よって，ここの部分の意味が解らなかったとしても以降の部分は理解できます．\n",
    "```"
   ]
  },
  {
   "cell_type": "markdown",
   "metadata": {
    "id": "rGGy4VXMphhJ"
   },
   "source": [
    "```{note}\n",
    "終わりです．\n",
    "```"
   ]
  }
 ],
 "metadata": {
  "accelerator": "GPU",
  "colab": {
   "provenance": [],
   "toc_visible": true
  },
  "kernelspec": {
   "display_name": "Python 3 (ipykernel)",
   "language": "python",
   "name": "python3"
  },
  "language_info": {
   "codemirror_mode": {
    "name": "ipython",
    "version": 3
   },
   "file_extension": ".py",
   "mimetype": "text/x-python",
   "name": "python",
   "nbconvert_exporter": "python",
   "pygments_lexer": "ipython3",
   "version": "3.7.7"
  }
 },
 "nbformat": 4,
 "nbformat_minor": 0
}